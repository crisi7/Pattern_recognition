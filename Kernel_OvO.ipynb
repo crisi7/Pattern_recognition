{
 "cells": [
  {
   "cell_type": "code",
   "execution_count": 1,
   "id": "dcf83b17-7109-48c3-8920-2662d498210e",
   "metadata": {},
   "outputs": [],
   "source": [
    "import time\n",
    "start_time = time.time()"
   ]
  },
  {
   "cell_type": "code",
   "execution_count": 2,
   "id": "5128068c-2570-42b2-b9b5-8345e8c9641e",
   "metadata": {},
   "outputs": [],
   "source": [
    "import glob\n",
    "import pandas as pd\n",
    "import numpy as np\n",
    "import matplotlib.pyplot as plt\n",
    "from sklearn import svm\n",
    "from sklearn.preprocessing import StandardScaler\n",
    "from sklearn.datasets import make_classification\n",
    "from sklearn.model_selection import GridSearchCV, train_test_split\n",
    "from sklearn.multiclass import OneVsOneClassifier\n",
    "from sklearn.metrics import classification_report, accuracy_score\n",
    "from mpl_toolkits.mplot3d import Axes3D"
   ]
  },
  {
   "cell_type": "markdown",
   "id": "3cf65785-13f0-44ed-ac0d-d4d3391f5b20",
   "metadata": {},
   "source": [
    "### 设置训练集和测试集数据"
   ]
  },
  {
   "cell_type": "code",
   "execution_count": 3,
   "id": "283d869f-9975-4056-89e6-716b810f6ed5",
   "metadata": {},
   "outputs": [],
   "source": [
    "#选择原始图片1 2 3\n",
    "target = 2\n",
    "\n",
    "if target==1:\n",
    "    data_name = '0618'\n",
    "elif target==2:\n",
    "    data_name = '0854'\n",
    "elif target==3:\n",
    "    data_name = '1066'\n",
    "\n",
    "# 设置训练集数据\n",
    "# 获取指定的CSV文件\n",
    "csv_files = glob.glob(f'./RGB_data/data_{data_name}_multi.csv')\n",
    "\n",
    "# 设置测试集数据\n",
    "new_image_path = f'./input_data/{data_name}.png'"
   ]
  },
  {
   "cell_type": "markdown",
   "id": "c3d2b754-0265-4117-a546-538da2f31e9b",
   "metadata": {},
   "source": [
    "# TRAIN"
   ]
  },
  {
   "cell_type": "code",
   "execution_count": 4,
   "id": "ac41cd2a-913c-4322-aa1b-f187c36f371e",
   "metadata": {},
   "outputs": [
    {
     "name": "stdout",
     "output_type": "stream",
     "text": [
      "(113, 4)\n"
     ]
    }
   ],
   "source": [
    "# 初始化一个空的DataFrame来存储合并后的数据\n",
    "data = pd.DataFrame()\n",
    "\n",
    "# 遍历所有CSV文件并将它们合并\n",
    "for file in csv_files:\n",
    "    df = pd.read_csv(file)\n",
    "    data = pd.concat([data, df], ignore_index=True)\n",
    "\n",
    "# 现在all_data包含了所有CSV文件的数据\n",
    "print(data.shape)"
   ]
  },
  {
   "cell_type": "code",
   "execution_count": 5,
   "id": "3c842420-8c91-4fa3-bfa2-1f43a100dabd",
   "metadata": {},
   "outputs": [
    {
     "data": {
      "text/plain": [
       "((113, 3), (113,), pandas.core.frame.DataFrame, pandas.core.series.Series)"
      ]
     },
     "execution_count": 5,
     "metadata": {},
     "output_type": "execute_result"
    }
   ],
   "source": [
    "# 读入特征和标签\n",
    "features = data.drop('Label', axis=1) # 按列操作取名为’Label以外的列\n",
    "labels = data['Label']\n",
    "features.shape,labels.shape,type(features),type(labels)"
   ]
  },
  {
   "cell_type": "code",
   "execution_count": 6,
   "id": "2bad1adc-8161-43ca-a09d-8f7b5cb4d764",
   "metadata": {},
   "outputs": [],
   "source": [
    "# 归一化\n",
    "scaler = StandardScaler()\n",
    "\n",
    "features = scaler.fit_transform(features)\n",
    "features = pd.DataFrame(features)"
   ]
  },
  {
   "cell_type": "code",
   "execution_count": 7,
   "id": "48be8177-c8cf-4f42-bbe5-72cd3071ab0f",
   "metadata": {},
   "outputs": [],
   "source": [
    "# 划分数据集\n",
    "X_train, X_test, y_train, y_test = train_test_split(features, labels,\n",
    "                                     test_size=0.25, random_state=42)"
   ]
  },
  {
   "cell_type": "code",
   "execution_count": 8,
   "id": "de21f354-6867-4729-bc50-a7a23e4ffec0",
   "metadata": {
    "jp-MarkdownHeadingCollapsed": true
   },
   "outputs": [
    {
     "name": "stdout",
     "output_type": "stream",
     "text": [
      "Fitting 10 folds for each of 84 candidates, totalling 840 fits\n"
     ]
    },
    {
     "ename": "ValueError",
     "evalue": "Invalid parameter 'C' for estimator OneVsOneClassifier(estimator=SVC()). Valid parameters are: ['estimator', 'n_jobs'].",
     "output_type": "error",
     "traceback": [
      "\u001b[0;31m---------------------------------------------------------------------------\u001b[0m",
      "\u001b[0;31mValueError\u001b[0m                                Traceback (most recent call last)",
      "Cell \u001b[0;32mIn[8], line 17\u001b[0m\n\u001b[1;32m     14\u001b[0m grid_search \u001b[38;5;241m=\u001b[39m GridSearchCV(estimator\u001b[38;5;241m=\u001b[39movo_svc_grid, param_grid\u001b[38;5;241m=\u001b[39mparam_grid,\n\u001b[1;32m     15\u001b[0m                            cv\u001b[38;5;241m=\u001b[39m\u001b[38;5;241m10\u001b[39m, scoring\u001b[38;5;241m=\u001b[39m\u001b[38;5;124m'\u001b[39m\u001b[38;5;124maccuracy\u001b[39m\u001b[38;5;124m'\u001b[39m, verbose\u001b[38;5;241m=\u001b[39m\u001b[38;5;241m1\u001b[39m)\n\u001b[1;32m     16\u001b[0m \u001b[38;5;66;03m#模型训练\u001b[39;00m\n\u001b[0;32m---> 17\u001b[0m \u001b[43mgrid_search\u001b[49m\u001b[38;5;241;43m.\u001b[39;49m\u001b[43mfit\u001b[49m\u001b[43m(\u001b[49m\u001b[43mX_train\u001b[49m\u001b[43m,\u001b[49m\u001b[43m \u001b[49m\u001b[43my_train\u001b[49m\u001b[43m)\u001b[49m\n\u001b[1;32m     19\u001b[0m \u001b[38;5;66;03m# 输出最佳参数和最佳分数\u001b[39;00m\n\u001b[1;32m     20\u001b[0m \u001b[38;5;28mprint\u001b[39m(\u001b[38;5;124m\"\u001b[39m\u001b[38;5;124mBest parameters:\u001b[39m\u001b[38;5;124m\"\u001b[39m, grid_search\u001b[38;5;241m.\u001b[39mbest_params_)\n",
      "File \u001b[0;32m~/miniconda3/envs/PR/lib/python3.9/site-packages/sklearn/base.py:1473\u001b[0m, in \u001b[0;36m_fit_context.<locals>.decorator.<locals>.wrapper\u001b[0;34m(estimator, *args, **kwargs)\u001b[0m\n\u001b[1;32m   1466\u001b[0m     estimator\u001b[38;5;241m.\u001b[39m_validate_params()\n\u001b[1;32m   1468\u001b[0m \u001b[38;5;28;01mwith\u001b[39;00m config_context(\n\u001b[1;32m   1469\u001b[0m     skip_parameter_validation\u001b[38;5;241m=\u001b[39m(\n\u001b[1;32m   1470\u001b[0m         prefer_skip_nested_validation \u001b[38;5;129;01mor\u001b[39;00m global_skip_validation\n\u001b[1;32m   1471\u001b[0m     )\n\u001b[1;32m   1472\u001b[0m ):\n\u001b[0;32m-> 1473\u001b[0m     \u001b[38;5;28;01mreturn\u001b[39;00m \u001b[43mfit_method\u001b[49m\u001b[43m(\u001b[49m\u001b[43mestimator\u001b[49m\u001b[43m,\u001b[49m\u001b[43m \u001b[49m\u001b[38;5;241;43m*\u001b[39;49m\u001b[43margs\u001b[49m\u001b[43m,\u001b[49m\u001b[43m \u001b[49m\u001b[38;5;241;43m*\u001b[39;49m\u001b[38;5;241;43m*\u001b[39;49m\u001b[43mkwargs\u001b[49m\u001b[43m)\u001b[49m\n",
      "File \u001b[0;32m~/miniconda3/envs/PR/lib/python3.9/site-packages/sklearn/model_selection/_search.py:1019\u001b[0m, in \u001b[0;36mBaseSearchCV.fit\u001b[0;34m(self, X, y, **params)\u001b[0m\n\u001b[1;32m   1013\u001b[0m     results \u001b[38;5;241m=\u001b[39m \u001b[38;5;28mself\u001b[39m\u001b[38;5;241m.\u001b[39m_format_results(\n\u001b[1;32m   1014\u001b[0m         all_candidate_params, n_splits, all_out, all_more_results\n\u001b[1;32m   1015\u001b[0m     )\n\u001b[1;32m   1017\u001b[0m     \u001b[38;5;28;01mreturn\u001b[39;00m results\n\u001b[0;32m-> 1019\u001b[0m \u001b[38;5;28;43mself\u001b[39;49m\u001b[38;5;241;43m.\u001b[39;49m\u001b[43m_run_search\u001b[49m\u001b[43m(\u001b[49m\u001b[43mevaluate_candidates\u001b[49m\u001b[43m)\u001b[49m\n\u001b[1;32m   1021\u001b[0m \u001b[38;5;66;03m# multimetric is determined here because in the case of a callable\u001b[39;00m\n\u001b[1;32m   1022\u001b[0m \u001b[38;5;66;03m# self.scoring the return type is only known after calling\u001b[39;00m\n\u001b[1;32m   1023\u001b[0m first_test_score \u001b[38;5;241m=\u001b[39m all_out[\u001b[38;5;241m0\u001b[39m][\u001b[38;5;124m\"\u001b[39m\u001b[38;5;124mtest_scores\u001b[39m\u001b[38;5;124m\"\u001b[39m]\n",
      "File \u001b[0;32m~/miniconda3/envs/PR/lib/python3.9/site-packages/sklearn/model_selection/_search.py:1573\u001b[0m, in \u001b[0;36mGridSearchCV._run_search\u001b[0;34m(self, evaluate_candidates)\u001b[0m\n\u001b[1;32m   1571\u001b[0m \u001b[38;5;28;01mdef\u001b[39;00m \u001b[38;5;21m_run_search\u001b[39m(\u001b[38;5;28mself\u001b[39m, evaluate_candidates):\n\u001b[1;32m   1572\u001b[0m \u001b[38;5;250m    \u001b[39m\u001b[38;5;124;03m\"\"\"Search all candidates in param_grid\"\"\"\u001b[39;00m\n\u001b[0;32m-> 1573\u001b[0m     \u001b[43mevaluate_candidates\u001b[49m\u001b[43m(\u001b[49m\u001b[43mParameterGrid\u001b[49m\u001b[43m(\u001b[49m\u001b[38;5;28;43mself\u001b[39;49m\u001b[38;5;241;43m.\u001b[39;49m\u001b[43mparam_grid\u001b[49m\u001b[43m)\u001b[49m\u001b[43m)\u001b[49m\n",
      "File \u001b[0;32m~/miniconda3/envs/PR/lib/python3.9/site-packages/sklearn/model_selection/_search.py:965\u001b[0m, in \u001b[0;36mBaseSearchCV.fit.<locals>.evaluate_candidates\u001b[0;34m(candidate_params, cv, more_results)\u001b[0m\n\u001b[1;32m    957\u001b[0m \u001b[38;5;28;01mif\u001b[39;00m \u001b[38;5;28mself\u001b[39m\u001b[38;5;241m.\u001b[39mverbose \u001b[38;5;241m>\u001b[39m \u001b[38;5;241m0\u001b[39m:\n\u001b[1;32m    958\u001b[0m     \u001b[38;5;28mprint\u001b[39m(\n\u001b[1;32m    959\u001b[0m         \u001b[38;5;124m\"\u001b[39m\u001b[38;5;124mFitting \u001b[39m\u001b[38;5;132;01m{0}\u001b[39;00m\u001b[38;5;124m folds for each of \u001b[39m\u001b[38;5;132;01m{1}\u001b[39;00m\u001b[38;5;124m candidates,\u001b[39m\u001b[38;5;124m\"\u001b[39m\n\u001b[1;32m    960\u001b[0m         \u001b[38;5;124m\"\u001b[39m\u001b[38;5;124m totalling \u001b[39m\u001b[38;5;132;01m{2}\u001b[39;00m\u001b[38;5;124m fits\u001b[39m\u001b[38;5;124m\"\u001b[39m\u001b[38;5;241m.\u001b[39mformat(\n\u001b[1;32m    961\u001b[0m             n_splits, n_candidates, n_candidates \u001b[38;5;241m*\u001b[39m n_splits\n\u001b[1;32m    962\u001b[0m         )\n\u001b[1;32m    963\u001b[0m     )\n\u001b[0;32m--> 965\u001b[0m out \u001b[38;5;241m=\u001b[39m \u001b[43mparallel\u001b[49m\u001b[43m(\u001b[49m\n\u001b[1;32m    966\u001b[0m \u001b[43m    \u001b[49m\u001b[43mdelayed\u001b[49m\u001b[43m(\u001b[49m\u001b[43m_fit_and_score\u001b[49m\u001b[43m)\u001b[49m\u001b[43m(\u001b[49m\n\u001b[1;32m    967\u001b[0m \u001b[43m        \u001b[49m\u001b[43mclone\u001b[49m\u001b[43m(\u001b[49m\u001b[43mbase_estimator\u001b[49m\u001b[43m)\u001b[49m\u001b[43m,\u001b[49m\n\u001b[1;32m    968\u001b[0m \u001b[43m        \u001b[49m\u001b[43mX\u001b[49m\u001b[43m,\u001b[49m\n\u001b[1;32m    969\u001b[0m \u001b[43m        \u001b[49m\u001b[43my\u001b[49m\u001b[43m,\u001b[49m\n\u001b[1;32m    970\u001b[0m \u001b[43m        \u001b[49m\u001b[43mtrain\u001b[49m\u001b[38;5;241;43m=\u001b[39;49m\u001b[43mtrain\u001b[49m\u001b[43m,\u001b[49m\n\u001b[1;32m    971\u001b[0m \u001b[43m        \u001b[49m\u001b[43mtest\u001b[49m\u001b[38;5;241;43m=\u001b[39;49m\u001b[43mtest\u001b[49m\u001b[43m,\u001b[49m\n\u001b[1;32m    972\u001b[0m \u001b[43m        \u001b[49m\u001b[43mparameters\u001b[49m\u001b[38;5;241;43m=\u001b[39;49m\u001b[43mparameters\u001b[49m\u001b[43m,\u001b[49m\n\u001b[1;32m    973\u001b[0m \u001b[43m        \u001b[49m\u001b[43msplit_progress\u001b[49m\u001b[38;5;241;43m=\u001b[39;49m\u001b[43m(\u001b[49m\u001b[43msplit_idx\u001b[49m\u001b[43m,\u001b[49m\u001b[43m \u001b[49m\u001b[43mn_splits\u001b[49m\u001b[43m)\u001b[49m\u001b[43m,\u001b[49m\n\u001b[1;32m    974\u001b[0m \u001b[43m        \u001b[49m\u001b[43mcandidate_progress\u001b[49m\u001b[38;5;241;43m=\u001b[39;49m\u001b[43m(\u001b[49m\u001b[43mcand_idx\u001b[49m\u001b[43m,\u001b[49m\u001b[43m \u001b[49m\u001b[43mn_candidates\u001b[49m\u001b[43m)\u001b[49m\u001b[43m,\u001b[49m\n\u001b[1;32m    975\u001b[0m \u001b[43m        \u001b[49m\u001b[38;5;241;43m*\u001b[39;49m\u001b[38;5;241;43m*\u001b[39;49m\u001b[43mfit_and_score_kwargs\u001b[49m\u001b[43m,\u001b[49m\n\u001b[1;32m    976\u001b[0m \u001b[43m    \u001b[49m\u001b[43m)\u001b[49m\n\u001b[1;32m    977\u001b[0m \u001b[43m    \u001b[49m\u001b[38;5;28;43;01mfor\u001b[39;49;00m\u001b[43m \u001b[49m\u001b[43m(\u001b[49m\u001b[43mcand_idx\u001b[49m\u001b[43m,\u001b[49m\u001b[43m \u001b[49m\u001b[43mparameters\u001b[49m\u001b[43m)\u001b[49m\u001b[43m,\u001b[49m\u001b[43m \u001b[49m\u001b[43m(\u001b[49m\u001b[43msplit_idx\u001b[49m\u001b[43m,\u001b[49m\u001b[43m \u001b[49m\u001b[43m(\u001b[49m\u001b[43mtrain\u001b[49m\u001b[43m,\u001b[49m\u001b[43m \u001b[49m\u001b[43mtest\u001b[49m\u001b[43m)\u001b[49m\u001b[43m)\u001b[49m\u001b[43m \u001b[49m\u001b[38;5;129;43;01min\u001b[39;49;00m\u001b[43m \u001b[49m\u001b[43mproduct\u001b[49m\u001b[43m(\u001b[49m\n\u001b[1;32m    978\u001b[0m \u001b[43m        \u001b[49m\u001b[38;5;28;43menumerate\u001b[39;49m\u001b[43m(\u001b[49m\u001b[43mcandidate_params\u001b[49m\u001b[43m)\u001b[49m\u001b[43m,\u001b[49m\n\u001b[1;32m    979\u001b[0m \u001b[43m        \u001b[49m\u001b[38;5;28;43menumerate\u001b[39;49m\u001b[43m(\u001b[49m\u001b[43mcv\u001b[49m\u001b[38;5;241;43m.\u001b[39;49m\u001b[43msplit\u001b[49m\u001b[43m(\u001b[49m\u001b[43mX\u001b[49m\u001b[43m,\u001b[49m\u001b[43m \u001b[49m\u001b[43my\u001b[49m\u001b[43m,\u001b[49m\u001b[43m \u001b[49m\u001b[38;5;241;43m*\u001b[39;49m\u001b[38;5;241;43m*\u001b[39;49m\u001b[43mrouted_params\u001b[49m\u001b[38;5;241;43m.\u001b[39;49m\u001b[43msplitter\u001b[49m\u001b[38;5;241;43m.\u001b[39;49m\u001b[43msplit\u001b[49m\u001b[43m)\u001b[49m\u001b[43m)\u001b[49m\u001b[43m,\u001b[49m\n\u001b[1;32m    980\u001b[0m \u001b[43m    \u001b[49m\u001b[43m)\u001b[49m\n\u001b[1;32m    981\u001b[0m \u001b[43m\u001b[49m\u001b[43m)\u001b[49m\n\u001b[1;32m    983\u001b[0m \u001b[38;5;28;01mif\u001b[39;00m \u001b[38;5;28mlen\u001b[39m(out) \u001b[38;5;241m<\u001b[39m \u001b[38;5;241m1\u001b[39m:\n\u001b[1;32m    984\u001b[0m     \u001b[38;5;28;01mraise\u001b[39;00m \u001b[38;5;167;01mValueError\u001b[39;00m(\n\u001b[1;32m    985\u001b[0m         \u001b[38;5;124m\"\u001b[39m\u001b[38;5;124mNo fits were performed. \u001b[39m\u001b[38;5;124m\"\u001b[39m\n\u001b[1;32m    986\u001b[0m         \u001b[38;5;124m\"\u001b[39m\u001b[38;5;124mWas the CV iterator empty? \u001b[39m\u001b[38;5;124m\"\u001b[39m\n\u001b[1;32m    987\u001b[0m         \u001b[38;5;124m\"\u001b[39m\u001b[38;5;124mWere there no candidates?\u001b[39m\u001b[38;5;124m\"\u001b[39m\n\u001b[1;32m    988\u001b[0m     )\n",
      "File \u001b[0;32m~/miniconda3/envs/PR/lib/python3.9/site-packages/sklearn/utils/parallel.py:74\u001b[0m, in \u001b[0;36mParallel.__call__\u001b[0;34m(self, iterable)\u001b[0m\n\u001b[1;32m     69\u001b[0m config \u001b[38;5;241m=\u001b[39m get_config()\n\u001b[1;32m     70\u001b[0m iterable_with_config \u001b[38;5;241m=\u001b[39m (\n\u001b[1;32m     71\u001b[0m     (_with_config(delayed_func, config), args, kwargs)\n\u001b[1;32m     72\u001b[0m     \u001b[38;5;28;01mfor\u001b[39;00m delayed_func, args, kwargs \u001b[38;5;129;01min\u001b[39;00m iterable\n\u001b[1;32m     73\u001b[0m )\n\u001b[0;32m---> 74\u001b[0m \u001b[38;5;28;01mreturn\u001b[39;00m \u001b[38;5;28;43msuper\u001b[39;49m\u001b[43m(\u001b[49m\u001b[43m)\u001b[49m\u001b[38;5;241;43m.\u001b[39;49m\u001b[38;5;21;43m__call__\u001b[39;49m\u001b[43m(\u001b[49m\u001b[43miterable_with_config\u001b[49m\u001b[43m)\u001b[49m\n",
      "File \u001b[0;32m~/miniconda3/envs/PR/lib/python3.9/site-packages/joblib/parallel.py:1918\u001b[0m, in \u001b[0;36mParallel.__call__\u001b[0;34m(self, iterable)\u001b[0m\n\u001b[1;32m   1916\u001b[0m     output \u001b[38;5;241m=\u001b[39m \u001b[38;5;28mself\u001b[39m\u001b[38;5;241m.\u001b[39m_get_sequential_output(iterable)\n\u001b[1;32m   1917\u001b[0m     \u001b[38;5;28mnext\u001b[39m(output)\n\u001b[0;32m-> 1918\u001b[0m     \u001b[38;5;28;01mreturn\u001b[39;00m output \u001b[38;5;28;01mif\u001b[39;00m \u001b[38;5;28mself\u001b[39m\u001b[38;5;241m.\u001b[39mreturn_generator \u001b[38;5;28;01melse\u001b[39;00m \u001b[38;5;28;43mlist\u001b[39;49m\u001b[43m(\u001b[49m\u001b[43moutput\u001b[49m\u001b[43m)\u001b[49m\n\u001b[1;32m   1920\u001b[0m \u001b[38;5;66;03m# Let's create an ID that uniquely identifies the current call. If the\u001b[39;00m\n\u001b[1;32m   1921\u001b[0m \u001b[38;5;66;03m# call is interrupted early and that the same instance is immediately\u001b[39;00m\n\u001b[1;32m   1922\u001b[0m \u001b[38;5;66;03m# re-used, this id will be used to prevent workers that were\u001b[39;00m\n\u001b[1;32m   1923\u001b[0m \u001b[38;5;66;03m# concurrently finalizing a task from the previous call to run the\u001b[39;00m\n\u001b[1;32m   1924\u001b[0m \u001b[38;5;66;03m# callback.\u001b[39;00m\n\u001b[1;32m   1925\u001b[0m \u001b[38;5;28;01mwith\u001b[39;00m \u001b[38;5;28mself\u001b[39m\u001b[38;5;241m.\u001b[39m_lock:\n",
      "File \u001b[0;32m~/miniconda3/envs/PR/lib/python3.9/site-packages/joblib/parallel.py:1847\u001b[0m, in \u001b[0;36mParallel._get_sequential_output\u001b[0;34m(self, iterable)\u001b[0m\n\u001b[1;32m   1845\u001b[0m \u001b[38;5;28mself\u001b[39m\u001b[38;5;241m.\u001b[39mn_dispatched_batches \u001b[38;5;241m+\u001b[39m\u001b[38;5;241m=\u001b[39m \u001b[38;5;241m1\u001b[39m\n\u001b[1;32m   1846\u001b[0m \u001b[38;5;28mself\u001b[39m\u001b[38;5;241m.\u001b[39mn_dispatched_tasks \u001b[38;5;241m+\u001b[39m\u001b[38;5;241m=\u001b[39m \u001b[38;5;241m1\u001b[39m\n\u001b[0;32m-> 1847\u001b[0m res \u001b[38;5;241m=\u001b[39m \u001b[43mfunc\u001b[49m\u001b[43m(\u001b[49m\u001b[38;5;241;43m*\u001b[39;49m\u001b[43margs\u001b[49m\u001b[43m,\u001b[49m\u001b[43m \u001b[49m\u001b[38;5;241;43m*\u001b[39;49m\u001b[38;5;241;43m*\u001b[39;49m\u001b[43mkwargs\u001b[49m\u001b[43m)\u001b[49m\n\u001b[1;32m   1848\u001b[0m \u001b[38;5;28mself\u001b[39m\u001b[38;5;241m.\u001b[39mn_completed_tasks \u001b[38;5;241m+\u001b[39m\u001b[38;5;241m=\u001b[39m \u001b[38;5;241m1\u001b[39m\n\u001b[1;32m   1849\u001b[0m \u001b[38;5;28mself\u001b[39m\u001b[38;5;241m.\u001b[39mprint_progress()\n",
      "File \u001b[0;32m~/miniconda3/envs/PR/lib/python3.9/site-packages/sklearn/utils/parallel.py:136\u001b[0m, in \u001b[0;36m_FuncWrapper.__call__\u001b[0;34m(self, *args, **kwargs)\u001b[0m\n\u001b[1;32m    134\u001b[0m     config \u001b[38;5;241m=\u001b[39m {}\n\u001b[1;32m    135\u001b[0m \u001b[38;5;28;01mwith\u001b[39;00m config_context(\u001b[38;5;241m*\u001b[39m\u001b[38;5;241m*\u001b[39mconfig):\n\u001b[0;32m--> 136\u001b[0m     \u001b[38;5;28;01mreturn\u001b[39;00m \u001b[38;5;28;43mself\u001b[39;49m\u001b[38;5;241;43m.\u001b[39;49m\u001b[43mfunction\u001b[49m\u001b[43m(\u001b[49m\u001b[38;5;241;43m*\u001b[39;49m\u001b[43margs\u001b[49m\u001b[43m,\u001b[49m\u001b[43m \u001b[49m\u001b[38;5;241;43m*\u001b[39;49m\u001b[38;5;241;43m*\u001b[39;49m\u001b[43mkwargs\u001b[49m\u001b[43m)\u001b[49m\n",
      "File \u001b[0;32m~/miniconda3/envs/PR/lib/python3.9/site-packages/sklearn/model_selection/_validation.py:876\u001b[0m, in \u001b[0;36m_fit_and_score\u001b[0;34m(estimator, X, y, scorer, train, test, verbose, parameters, fit_params, score_params, return_train_score, return_parameters, return_n_test_samples, return_times, return_estimator, split_progress, candidate_progress, error_score)\u001b[0m\n\u001b[1;32m    869\u001b[0m score_params_test \u001b[38;5;241m=\u001b[39m _check_method_params(X, params\u001b[38;5;241m=\u001b[39mscore_params, indices\u001b[38;5;241m=\u001b[39mtest)\n\u001b[1;32m    871\u001b[0m \u001b[38;5;28;01mif\u001b[39;00m parameters \u001b[38;5;129;01mis\u001b[39;00m \u001b[38;5;129;01mnot\u001b[39;00m \u001b[38;5;28;01mNone\u001b[39;00m:\n\u001b[1;32m    872\u001b[0m     \u001b[38;5;66;03m# here we clone the parameters, since sometimes the parameters\u001b[39;00m\n\u001b[1;32m    873\u001b[0m     \u001b[38;5;66;03m# themselves might be estimators, e.g. when we search over different\u001b[39;00m\n\u001b[1;32m    874\u001b[0m     \u001b[38;5;66;03m# estimators in a pipeline.\u001b[39;00m\n\u001b[1;32m    875\u001b[0m     \u001b[38;5;66;03m# ref: https://github.com/scikit-learn/scikit-learn/pull/26786\u001b[39;00m\n\u001b[0;32m--> 876\u001b[0m     estimator \u001b[38;5;241m=\u001b[39m \u001b[43mestimator\u001b[49m\u001b[38;5;241;43m.\u001b[39;49m\u001b[43mset_params\u001b[49m\u001b[43m(\u001b[49m\u001b[38;5;241;43m*\u001b[39;49m\u001b[38;5;241;43m*\u001b[39;49m\u001b[43mclone\u001b[49m\u001b[43m(\u001b[49m\u001b[43mparameters\u001b[49m\u001b[43m,\u001b[49m\u001b[43m \u001b[49m\u001b[43msafe\u001b[49m\u001b[38;5;241;43m=\u001b[39;49m\u001b[38;5;28;43;01mFalse\u001b[39;49;00m\u001b[43m)\u001b[49m\u001b[43m)\u001b[49m\n\u001b[1;32m    878\u001b[0m start_time \u001b[38;5;241m=\u001b[39m time\u001b[38;5;241m.\u001b[39mtime()\n\u001b[1;32m    880\u001b[0m X_train, y_train \u001b[38;5;241m=\u001b[39m _safe_split(estimator, X, y, train)\n",
      "File \u001b[0;32m~/miniconda3/envs/PR/lib/python3.9/site-packages/sklearn/base.py:279\u001b[0m, in \u001b[0;36mBaseEstimator.set_params\u001b[0;34m(self, **params)\u001b[0m\n\u001b[1;32m    277\u001b[0m \u001b[38;5;28;01mif\u001b[39;00m key \u001b[38;5;129;01mnot\u001b[39;00m \u001b[38;5;129;01min\u001b[39;00m valid_params:\n\u001b[1;32m    278\u001b[0m     local_valid_params \u001b[38;5;241m=\u001b[39m \u001b[38;5;28mself\u001b[39m\u001b[38;5;241m.\u001b[39m_get_param_names()\n\u001b[0;32m--> 279\u001b[0m     \u001b[38;5;28;01mraise\u001b[39;00m \u001b[38;5;167;01mValueError\u001b[39;00m(\n\u001b[1;32m    280\u001b[0m         \u001b[38;5;124mf\u001b[39m\u001b[38;5;124m\"\u001b[39m\u001b[38;5;124mInvalid parameter \u001b[39m\u001b[38;5;132;01m{\u001b[39;00mkey\u001b[38;5;132;01m!r}\u001b[39;00m\u001b[38;5;124m for estimator \u001b[39m\u001b[38;5;132;01m{\u001b[39;00m\u001b[38;5;28mself\u001b[39m\u001b[38;5;132;01m}\u001b[39;00m\u001b[38;5;124m. \u001b[39m\u001b[38;5;124m\"\u001b[39m\n\u001b[1;32m    281\u001b[0m         \u001b[38;5;124mf\u001b[39m\u001b[38;5;124m\"\u001b[39m\u001b[38;5;124mValid parameters are: \u001b[39m\u001b[38;5;132;01m{\u001b[39;00mlocal_valid_params\u001b[38;5;132;01m!r}\u001b[39;00m\u001b[38;5;124m.\u001b[39m\u001b[38;5;124m\"\u001b[39m\n\u001b[1;32m    282\u001b[0m     )\n\u001b[1;32m    284\u001b[0m \u001b[38;5;28;01mif\u001b[39;00m delim:\n\u001b[1;32m    285\u001b[0m     nested_params[key][sub_key] \u001b[38;5;241m=\u001b[39m value\n",
      "\u001b[0;31mValueError\u001b[0m: Invalid parameter 'C' for estimator OneVsOneClassifier(estimator=SVC()). Valid parameters are: ['estimator', 'n_jobs']."
     ]
    }
   ],
   "source": [
    "#网格搜索\n",
    "svc_grid = svm.SVC(kernel='rbf', probability=True)\n",
    "\n",
    "#使用OneVsOneClassifier包装分类器\n",
    "ovo_svc_grid = OneVsOneClassifier(svc_grid)\n",
    "\n",
    "param_grid = {\n",
    "    'estimator__C' : [100, 10, 1, 0.1, 0.01, 0.001, 0.0001],\n",
    "    'estimator__gamma' : [0.001, 0.01, 0.1, 1, 10, 100],\n",
    "    'estimator__kernel' : ['rbf'],\n",
    "    'estimator__class_weight': [None, 'balanced']\n",
    "}\n",
    "\n",
    "#estimator是上面创建的OneVsOneClassifier实例\n",
    "grid_search = GridSearchCV(estimator=ovo_svc_grid, param_grid=param_grid,\n",
    "                           cv=10, scoring='accuracy', verbose=1)\n",
    "#模型训练\n",
    "grid_search.fit(X_train, y_train)\n",
    "\n",
    "# 输出最佳参数和最佳分数\n",
    "print(\"Best parameters:\", grid_search.best_params_)\n",
    "print(\"Best cross-validation score:\", grid_search.best_score_)\n",
    "\n",
    "#使用最佳参数和训练集数据训练最终模型\n",
    "clf = grid_search.best_estimator_\n",
    "y_pred = clf.predict(X_test)"
   ]
  },
  {
   "cell_type": "code",
   "execution_count": null,
   "id": "5a8c410a-705f-40af-8443-9d165be3c383",
   "metadata": {},
   "outputs": [],
   "source": [
    "#输出训练结果\n",
    "# 数据量\n",
    "positive_count = data[data['Label'] == 1]['Label'].count()\n",
    "negative_count = data[data['Label'] == 0]['Label'].count()\n",
    "\n",
    "print(f'共{data.shape[0]}个数据, {positive_count}个正样本，{negative_count}个负样本\\n')\n",
    "\n",
    "# 计算并打印准确率\n",
    "accuracy = accuracy_score(y_test, y_pred)\n",
    "print(f'Model accuracy: {accuracy:.2f}\\n')\n",
    "\n",
    "# 计算并打印分类报告\n",
    "report = classification_report(y_test, y_pred)\n",
    "print('Classification Report:\\n', report)"
   ]
  },
  {
   "cell_type": "code",
   "execution_count": null,
   "id": "9d03120b-0afc-4590-acd2-3ee25fefbac3",
   "metadata": {
    "jupyter": {
     "source_hidden": true
    }
   },
   "outputs": [],
   "source": [
    "def plot_svm_decision_boundaries(clf, X_train, y_train):\n",
    "    # 创建一个图形窗口，大小为20x10英寸\n",
    "    fig = plt.figure(figsize=(20, 12))\n",
    "\n",
    "    # 创建四个子图，排列为2行2列\n",
    "    # axs是一个2x2的数组，每个元素代表一个子图对象\n",
    "    axs = fig.subplots(2, 2)\n",
    "\n",
    "    # 将子图数组展平，方便索引\n",
    "    axs = axs.flatten()\n",
    "\n",
    "    # BGR (3D) 图\n",
    "    # 创建3D子图，位置在左上角（221表示2行2列中的第1个）\n",
    "    ax1 = fig.add_subplot(221, projection='3d')\n",
    "    # 绘制BGR数据点\n",
    "    ax1.scatter(X_train[0], X_train[1], X_train[2], c=y_train, cmap=plt.cm.Paired)\n",
    "    # 设置坐标轴标签\n",
    "    ax1.set_xlabel('B')\n",
    "    ax1.set_ylabel('G')\n",
    "    ax1.set_zlabel('R')\n",
    "    # 设置子图标题\n",
    "    ax1.set_title('BGR Channels')\n",
    "\n",
    "    # 获取支持向量\n",
    "    support_vectors = clf.support_vectors_\n",
    "    # 在3D图中绘制支持向量\n",
    "    ax1.scatter(support_vectors[:, 0], support_vectors[:, 1], support_vectors[:, 2], s=100,\n",
    "                 linewidth=1, facecolors='none', edgecolors='k')\n",
    "\n",
    "    # 计算并绘制决策边界\n",
    "    w = clf.coef_[0]\n",
    "    b = clf.intercept_[0]\n",
    "    xx = np.linspace(X_train[0].min() - 1, X_train[0].max() + 1, 10)\n",
    "    yy = np.linspace(X_train[1].min() - 1, X_train[1].max() + 1, 10)\n",
    "    X1, X2 = np.meshgrid(xx, yy)\n",
    "    Z = -w[0] / w[2] * X1 - w[1] / w[2] * X2 - b / w[2]\n",
    "    ax1.plot_surface(X1, X2, Z, alpha=0.5, rstride=1, cstride=1, color='k', linewidth=0)\n",
    "\n",
    "    # RG 图 21\n",
    "    ax2 = axs[1]\n",
    "    ax2.scatter(X_train[2], X_train[1], c=y_train, cmap=plt.cm.Paired)\n",
    "    ax2.set_xlabel('R')\n",
    "    ax2.set_ylabel('G')\n",
    "    ax2.set_title('RG Channels')\n",
    "\n",
    "    # 在RG图中绘制支持向量\n",
    "    ax1.scatter(support_vectors[:, 2], support_vectors[:, 1], s=100,\n",
    "                 linewidth=1, facecolors='none', edgecolors='k')\n",
    "\n",
    "    # 绘制RG的决策边界\n",
    "    xx = np.linspace(X_train[2].min() - 1, X_train[2].max() + 1, 500)\n",
    "    yy = np.linspace(X_train[1].min() - 1, X_train[1].max() + 1, 500)\n",
    "    X1, X2 = np.meshgrid(xx, yy)\n",
    "    Z = -w[2] / w[1] * X1 - b / w[1]\n",
    "    ax2.contour(X1, X2, Z, colors='k', levels=[0], linestyles=['-'])\n",
    "\n",
    "    # RB 图 20\n",
    "    ax3 = axs[2]\n",
    "    ax3.scatter(X_train[2], X_train[0], c=y_train, cmap=plt.cm.Paired)\n",
    "    ax3.set_xlabel('R')\n",
    "    ax3.set_ylabel('B')\n",
    "    ax3.set_title('RB Channels')\n",
    "\n",
    "    # 在RB图中绘制支持向量\n",
    "    ax1.scatter(support_vectors[:, 2], support_vectors[:, 0], s=100,\n",
    "                 linewidth=1, facecolors='none', edgecolors='k')\n",
    "\n",
    "    # 绘制RB的决策边界\n",
    "    xx = np.linspace(X_train[2].min() - 1, X_train[2].max() + 1, 500)\n",
    "    yy = np.linspace(X_train[0].min() - 1, X_train[0].max() + 1, 500)\n",
    "    X1, X2 = np.meshgrid(xx, yy)\n",
    "    Z = -w[2] / w[0] * X1 - b / w[0]\n",
    "    ax3.contour(X1, X2, Z, colors='k', levels=[0], linestyles=['-'])\n",
    "\n",
    "    # BG 图 01\n",
    "    ax4 = axs[3]\n",
    "    ax4.scatter(X_train[0], X_train[1], c=y_train, cmap=plt.cm.Paired)\n",
    "    ax4.set_xlabel('B')\n",
    "    ax4.set_ylabel('G')\n",
    "    ax4.set_title('BG Channels')\n",
    "\n",
    "    # 在BG图中绘制支持向量\n",
    "    ax1.scatter(support_vectors[:, 0], support_vectors[:, 1], s=100,\n",
    "                 linewidth=1, facecolors='none', edgecolors='k')    \n",
    "\n",
    "    # 绘制BG的决策边界\n",
    "    xx = np.linspace(X_train[0].min() - 1, X_train[0].max() + 1, 500)\n",
    "    yy = np.linspace(X_train[1].min() - 1, X_train[1].max() + 1, 500)\n",
    "    X1, X2 = np.meshgrid(xx, yy)\n",
    "    Z = -w[0] / w[1] * X1 - b / w[1]\n",
    "    ax4.contour(X1, X2, Z, colors='k', levels=[0], linestyles=['-'])\n",
    "\n",
    "    # 自动调整子图布局，避免重叠\n",
    "    plt.tight_layout()\n",
    "    # 显示图形\n",
    "    plt.show()"
   ]
  },
  {
   "cell_type": "code",
   "execution_count": null,
   "id": "31ca4087-55e9-4956-bfd4-14e5617ee1a7",
   "metadata": {},
   "outputs": [],
   "source": [
    "from joblib import dump, load\n",
    "\n",
    "# 保存模型\n",
    "dump(clf, './model/svm_model_kernel.joblib')\n",
    "\n",
    "# 加载模型\n",
    "clf_loaded = load('./model/svm_model_kernel.joblib')"
   ]
  },
  {
   "cell_type": "markdown",
   "id": "5815d8fd-2c09-4c61-8063-07ba9f8ec997",
   "metadata": {},
   "source": [
    "# TEST"
   ]
  },
  {
   "cell_type": "code",
   "execution_count": null,
   "id": "2e893c72-470d-467e-a51d-19b9d31151ad",
   "metadata": {},
   "outputs": [],
   "source": [
    "import cv2\n",
    "import os\n",
    "from joblib import load"
   ]
  },
  {
   "cell_type": "code",
   "execution_count": null,
   "id": "0a1bf4d3-9411-495c-8c14-b84805b95fca",
   "metadata": {},
   "outputs": [],
   "source": [
    "def load_model(model_path):\n",
    "    \"\"\"加载训练好的SVM模型\"\"\"\n",
    "    return load(model_path)"
   ]
  },
  {
   "cell_type": "code",
   "execution_count": null,
   "id": "9658fa3c-fff7-4d4f-864f-ca7b95ff9c73",
   "metadata": {},
   "outputs": [],
   "source": [
    "def preprocess_image(image):\n",
    "    h, w, _ = image.shape\n",
    "    \n",
    "    blue_channel = image[:, :, 0].reshape(-1)\n",
    "    green_channel = image[:, :, 1].reshape(-1)\n",
    "    red_channel = image[:, :, 2].reshape(-1)\n",
    "\n",
    "    img_array = np.stack((blue_channel, green_channel, red_channel), axis=1)\n",
    "\n",
    "    print(img_array.shape)\n",
    "    \n",
    "    return img_array"
   ]
  },
  {
   "cell_type": "code",
   "execution_count": null,
   "id": "b4da2fb2-4cd8-41b4-92dd-8edd8a99df92",
   "metadata": {},
   "outputs": [],
   "source": [
    "# 假设你已经有了一个训练好的模型 clf 和一个 StandardScaler 对象 scaler\n",
    "model_path = './model/svm_model_kernel.joblib'\n",
    "clf = load_model(model_path)\n",
    "\n",
    "# 加载新的图片\n",
    "new_image = cv2.imread(new_image_path)"
   ]
  },
  {
   "cell_type": "code",
   "execution_count": null,
   "id": "7ad350af-aeea-4f98-9c7a-ec25d50bfb83",
   "metadata": {},
   "outputs": [],
   "source": [
    "# 将图片数据转换为模型可以处理的格式\n",
    "# 这里你需要根据你的训练数据来决定如何处理图片数据\n",
    "# 例如，如果你的训练数据是图片的某些特征，你需要提取这些特征\n",
    "# 这里只是一个示例，你需要根据实际情况调整\n",
    "new_features = preprocess_image(new_image)  # 你需要定义这个函数"
   ]
  },
  {
   "cell_type": "code",
   "execution_count": null,
   "id": "51d0b2da-7d30-49ec-9278-b1542ad027d2",
   "metadata": {},
   "outputs": [],
   "source": [
    "# 使用相同的StandardScaler进行标准化\n",
    "new_features = scaler.transform(new_features)\n",
    "new_features.shape, type(new_features)"
   ]
  },
  {
   "cell_type": "code",
   "execution_count": null,
   "id": "43cde813-fa18-4def-8874-85d46abe880f",
   "metadata": {},
   "outputs": [],
   "source": [
    "# 使用模型进行预测\n",
    "prediction = clf.predict(new_features)"
   ]
  },
  {
   "cell_type": "code",
   "execution_count": null,
   "id": "c21bf4da-84fd-4e35-8df7-3bed81d7c0a4",
   "metadata": {},
   "outputs": [],
   "source": [
    "# 假设你已经得到了BGR三通道的归一化数组 new_features\n",
    "# new_features 的形状应该是 (n_samples, 3)，其中 n_samples 是像素的数量\n",
    "\n",
    "# 假设 clf 是你已经训练好的模型\n",
    "# 例如：clf = SVC(C=1.0, kernel='linear')\n",
    "\n",
    "# 使用模型进行预测\n",
    "# 注意：这里假设 new_features 已经是归一化后的数组，并且形状正确\n",
    "predictions = clf.predict(new_features)\n",
    "\n",
    "# 将预测结果应用到图片上\n",
    "# 假设 original_image 是原始图片的NumPy数组\n",
    "original_image = new_image\n",
    "height, width, _ = original_image.shape\n",
    "predicted_image = np.zeros_like(original_image)\n",
    "\n",
    "for i in range(height):\n",
    "    for j in range(width):\n",
    "        # 获取当前像素的索引\n",
    "        pixel_index = i * width + j\n",
    "        \n",
    "        # 根据预测结果设置像素的颜色\n",
    "        if predictions[pixel_index] == 1:\n",
    "            predicted_image[i, j] = (255, 255, 255)  # 白色\n",
    "        else:\n",
    "            predicted_image[i, j] = (0, 0, 0)  # 黑色"
   ]
  },
  {
   "cell_type": "code",
   "execution_count": null,
   "id": "12de4fb7-4df6-4c8b-b408-2273e821ba5c",
   "metadata": {},
   "outputs": [],
   "source": [
    "# 显示原始图片\n",
    "plt.figure(figsize=(10, 5))\n",
    "plt.subplot(1, 2, 1)\n",
    "plt.imshow(cv2.cvtColor(original_image, cv2.COLOR_BGR2RGB))\n",
    "plt.title('Original Image')\n",
    "plt.axis('off')\n",
    "\n",
    "# 显示预测后的图片\n",
    "plt.subplot(1, 2, 2)\n",
    "plt.imshow(cv2.cvtColor(predicted_image, cv2.COLOR_BGR2RGB))\n",
    "plt.title('Predicted Image')\n",
    "plt.axis('off')\n",
    "\n",
    "# 显示图像\n",
    "plt.show()\n",
    "    \n",
    "# 保存预测后的图片\n",
    "new_image_name = os.path.splitext(os.path.basename(new_image_path))[0]\n",
    "save_path = f'./result_new/pred_{new_image_name}_OvO.jpg'\n",
    "cv2.imwrite(save_path, predicted_image)\n",
    "print(f'Predicted image saved to {save_path}')"
   ]
  },
  {
   "cell_type": "code",
   "execution_count": null,
   "id": "e90dc151-1d7a-4859-bcf0-cf0c92080018",
   "metadata": {},
   "outputs": [],
   "source": [
    "end_time = time.time()\n",
    "# 计算并打印运行时间\n",
    "elapsed_time = end_time - start_time\n",
    "print(f\"Elapsed time: {elapsed_time} seconds\")"
   ]
  },
  {
   "cell_type": "code",
   "execution_count": null,
   "id": "8579604a-a5ae-42ca-98b0-abe97374ea7f",
   "metadata": {},
   "outputs": [],
   "source": [
    "import cv2\n",
    "import numpy as np\n",
    "from sklearn.metrics import confusion_matrix\n",
    "\n",
    "def calculate_performance_metrics(y_true, y_pred):\n",
    "    # 计算混淆矩阵\n",
    "    tn, fp, fn, tp = confusion_matrix(y_true, y_pred).ravel()\n",
    "    \n",
    "    # 计算像素准确率（PA）\n",
    "    pa = (tp + tn) / (tp + tn + fp + fn)\n",
    "    \n",
    "    # 计算交并比（IoU）\n",
    "    iou = tp / (tp + fp + fn)\n",
    "    \n",
    "    return pa, iou\n",
    "\n",
    "def load_and_mask_binary_image(image_path):\n",
    "    # 加载图像\n",
    "    image = cv2.imread(image_path, cv2.IMREAD_GRAYSCALE)\n",
    "    if image is None:\n",
    "        raise ValueError(f\"无法加载图像：{image_path}\")\n",
    "    \n",
    "    # 创建掩码以仅保留二值像素（0或255）\n",
    "    mask = (image == 0) | (image == 255)\n",
    "    # 应用掩码并转换为二值图像\n",
    "    binary_image = image.copy()\n",
    "    binary_image[~mask] = 0  # 将非二值像素设置为0\n",
    "    return binary_image, mask\n",
    "\n",
    "# 输入图像的路径\n",
    "test_image_path = save_path  # 测试得到的图像路径\n",
    "annotated_image_path = f'./input_data/{data_name}_label.png'  # 标注的图像路径\n",
    "\n",
    "# 加载并处理图像\n",
    "y_true, true_mask = load_and_mask_binary_image(annotated_image_path)\n",
    "y_pred, _ = load_and_mask_binary_image(test_image_path)\n",
    "\n",
    "# 将图像转换为二值数组（0或1）\n",
    "y_true_binary = (y_true > 0).astype(int)\n",
    "y_pred_binary = (y_pred > 0).astype(int)\n",
    "\n",
    "# 应用掩码以仅考虑二值像素\n",
    "y_true_binary = y_true_binary[true_mask]\n",
    "y_pred_binary = y_pred_binary[true_mask]\n",
    "\n",
    "# 计算性能指标\n",
    "pa, iou = calculate_performance_metrics(y_true_binary, y_pred_binary)\n",
    "\n",
    "print(f\"Pixel Accuracy (PA): {pa:.4f}\")\n",
    "print(f\"Intersection over Union (IoU): {iou:.4f}\")"
   ]
  },
  {
   "cell_type": "code",
   "execution_count": null,
   "id": "051b9da4-412e-41a2-aff8-710b3697220f",
   "metadata": {},
   "outputs": [],
   "source": []
  }
 ],
 "metadata": {
  "kernelspec": {
   "display_name": "Python 3 (ipykernel)",
   "language": "python",
   "name": "python3"
  },
  "language_info": {
   "codemirror_mode": {
    "name": "ipython",
    "version": 3
   },
   "file_extension": ".py",
   "mimetype": "text/x-python",
   "name": "python",
   "nbconvert_exporter": "python",
   "pygments_lexer": "ipython3",
   "version": "3.9.18"
  }
 },
 "nbformat": 4,
 "nbformat_minor": 5
}
