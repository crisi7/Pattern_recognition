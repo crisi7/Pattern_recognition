{
 "cells": [
  {
   "cell_type": "code",
   "execution_count": null,
   "id": "8bc1a0e9-58df-4b51-b055-1ab71ca49cb8",
   "metadata": {},
   "outputs": [],
   "source": [
    "import time\n",
    "start_time = time.time()"
   ]
  },
  {
   "cell_type": "markdown",
   "id": "0ba919e2-0606-4672-aa9f-344fc7138d35",
   "metadata": {},
   "source": [
    "# 在原始空间中求解"
   ]
  },
  {
   "cell_type": "code",
   "execution_count": null,
   "id": "5128068c-2570-42b2-b9b5-8345e8c9641e",
   "metadata": {},
   "outputs": [],
   "source": [
    "import glob\n",
    "import pandas as pd\n",
    "import numpy as np\n",
    "import matplotlib.pyplot as plt\n",
    "from sklearn import svm\n",
    "from sklearn.preprocessing import StandardScaler\n",
    "from sklearn.model_selection import train_test_split\n",
    "from sklearn.model_selection import KFold, cross_val_score\n",
    "from sklearn.model_selection import train_test_split, GridSearchCV\n",
    "from sklearn.metrics import classification_report, accuracy_score"
   ]
  },
  {
   "cell_type": "markdown",
   "id": "3cf65785-13f0-44ed-ac0d-d4d3391f5b20",
   "metadata": {},
   "source": [
    "### 设置训练集和测试集数据"
   ]
  },
  {
   "cell_type": "code",
   "execution_count": null,
   "id": "283d869f-9975-4056-89e6-716b810f6ed5",
   "metadata": {},
   "outputs": [],
   "source": [
    "# 1 2 3\n",
    "target = 3\n",
    "# 对偶空间或是原空间\n",
    "is_dual = True\n",
    "\n",
    "if target==1:\n",
    "    data_name = '0618'\n",
    "elif target==2:\n",
    "    data_name = '0854'\n",
    "elif target==3:\n",
    "    data_name = '1066'\n",
    "\n",
    "# 设置训练集数据\n",
    "# 获取指定的CSV文件\n",
    "csv_files = glob.glob(f'./RGB_data/data_{data_name}.csv')\n",
    "\n",
    "# 设置测试集数据\n",
    "new_image_path = f'./input_data/{data_name}.png'"
   ]
  },
  {
   "cell_type": "markdown",
   "id": "c3d2b754-0265-4117-a546-538da2f31e9b",
   "metadata": {},
   "source": [
    "# TRAIN"
   ]
  },
  {
   "cell_type": "code",
   "execution_count": null,
   "id": "ac41cd2a-913c-4322-aa1b-f187c36f371e",
   "metadata": {},
   "outputs": [],
   "source": [
    "# 初始化一个空的DataFrame来存储合并后的数据\n",
    "data = pd.DataFrame()\n",
    "\n",
    "# 遍历所有CSV文件并将它们合并\n",
    "for file in csv_files:\n",
    "    df = pd.read_csv(file)\n",
    "    data = pd.concat([data, df], ignore_index=True)\n",
    "\n",
    "# 现在all_data包含了所有CSV文件的数据\n",
    "print(data.shape)"
   ]
  },
  {
   "cell_type": "code",
   "execution_count": null,
   "id": "3c842420-8c91-4fa3-bfa2-1f43a100dabd",
   "metadata": {},
   "outputs": [],
   "source": [
    "# 读入特征和标签\n",
    "features = data.drop('Label', axis=1) # 按列操作取名为’Label以外的列\n",
    "labels = data['Label']\n",
    "features.shape,labels.shape,type(features),type(labels)"
   ]
  },
  {
   "cell_type": "code",
   "execution_count": null,
   "id": "2bad1adc-8161-43ca-a09d-8f7b5cb4d764",
   "metadata": {},
   "outputs": [],
   "source": [
    "# 归一化\n",
    "scaler = StandardScaler()\n",
    "\n",
    "print(features.shape)\n",
    "print(type(features))\n",
    "\n",
    "features = scaler.fit_transform(features)\n",
    "features = pd.DataFrame(features)\n",
    "\n",
    "print(features.shape)\n",
    "print(type(features))\n",
    "\n",
    "features.shape,labels.shape,\n",
    "type(features),type(labels)"
   ]
  },
  {
   "cell_type": "code",
   "execution_count": null,
   "id": "48be8177-c8cf-4f42-bbe5-72cd3071ab0f",
   "metadata": {},
   "outputs": [],
   "source": [
    "# 划分数据集\n",
    "X_train, X_test, y_train, y_test = train_test_split(features, labels,\n",
    "                                     test_size=0.25, random_state=42)"
   ]
  },
  {
   "cell_type": "markdown",
   "id": "d4468918-0113-40b8-b69f-57362fd359c3",
   "metadata": {},
   "source": [
    "## 线性SVM 原始空间"
   ]
  },
  {
   "cell_type": "code",
   "execution_count": null,
   "id": "5394eb7d-e419-4fd0-8b57-def5227fb63a",
   "metadata": {},
   "outputs": [],
   "source": [
    "#搜索C\n",
    "param_grid = {\n",
    "    'C': [1e-4, 1e-3, 1e-2, 0.1, 1, 10, 100]\n",
    "}\n",
    "\n",
    "#创建svm分类器\n",
    "#dual参数决定了是否求解对偶问题,True表示算法将在对偶空间中求解False表示算法将在原空间中求解\n",
    "clf = svm.LinearSVC(dual=is_dual, random_state=42)\n",
    "#通过GridSearch设置参数搜索和k折交叉验证\n",
    "grid_search = GridSearchCV(estimator=clf, param_grid=param_grid\n",
    "                           , cv=10, scoring='accuracy')\n",
    "#模型训练\n",
    "grid_search.fit(X_train, y_train)\n",
    "\n",
    "# 输出最佳参数和最佳分数\n",
    "print(\"Best parameters:\", grid_search.best_params_)\n",
    "print(\"Best cross-validation score:\", grid_search.best_score_)\n",
    "\n",
    "# 使用最佳参数的模型在测试集(实际上是验证集)上进行预测\n",
    "clf = grid_search.best_estimator_\n",
    "y_pred = clf.predict(X_test)"
   ]
  },
  {
   "cell_type": "code",
   "execution_count": null,
   "id": "5a8c410a-705f-40af-8443-9d165be3c383",
   "metadata": {},
   "outputs": [],
   "source": [
    "#输出训练结果\n",
    "# 数据量\n",
    "positive_count = data[data['Label'] == 1]['Label'].count()\n",
    "negative_count = data[data['Label'] == 0]['Label'].count()\n",
    "\n",
    "print(f'共{data.shape[0]}个数据, {positive_count}个正样本，{negative_count}个负样本\\n')\n",
    "\n",
    "# 计算并打印准确率\n",
    "accuracy = accuracy_score(y_test, y_pred)\n",
    "print(f'Model accuracy: {accuracy:.2f}\\n')\n",
    "\n",
    "# 计算并打印分类报告\n",
    "report = classification_report(y_test, y_pred)\n",
    "print('Classification Report:\\n', report)"
   ]
  },
  {
   "cell_type": "code",
   "execution_count": null,
   "id": "31ca4087-55e9-4956-bfd4-14e5617ee1a7",
   "metadata": {},
   "outputs": [],
   "source": [
    "from joblib import dump, load\n",
    "\n",
    "##假设 clf 是训练好的 SVM 模型\n",
    "##clf = SVC().fit(X_train, y_train)\n",
    "\n",
    "# 保存模型\n",
    "dump(clf, './model/svm_model_origin.joblib')\n",
    "\n",
    "# 加载模型\n",
    "clf_loaded = load('./model/svm_model_origin.joblib')"
   ]
  },
  {
   "cell_type": "markdown",
   "id": "5815d8fd-2c09-4c61-8063-07ba9f8ec997",
   "metadata": {},
   "source": [
    "# TEST"
   ]
  },
  {
   "cell_type": "code",
   "execution_count": null,
   "id": "2e893c72-470d-467e-a51d-19b9d31151ad",
   "metadata": {},
   "outputs": [],
   "source": [
    "import cv2\n",
    "import os\n",
    "from joblib import load"
   ]
  },
  {
   "cell_type": "code",
   "execution_count": null,
   "id": "0a1bf4d3-9411-495c-8c14-b84805b95fca",
   "metadata": {},
   "outputs": [],
   "source": [
    "def load_model(model_path):\n",
    "    \"\"\"加载训练好的SVM模型\"\"\"\n",
    "    return load(model_path)"
   ]
  },
  {
   "cell_type": "code",
   "execution_count": null,
   "id": "9658fa3c-fff7-4d4f-864f-ca7b95ff9c73",
   "metadata": {},
   "outputs": [],
   "source": [
    "def preprocess_image(image):\n",
    "    h, w, _ = image.shape\n",
    "    \n",
    "    blue_channel = image[:, :, 0].reshape(-1)\n",
    "    green_channel = image[:, :, 1].reshape(-1)\n",
    "    red_channel = image[:, :, 2].reshape(-1)\n",
    "\n",
    "    img_array = np.stack((blue_channel, green_channel, red_channel), axis=1)\n",
    "\n",
    "    print(img_array.shape)\n",
    "    \n",
    "    return img_array"
   ]
  },
  {
   "cell_type": "code",
   "execution_count": null,
   "id": "b4da2fb2-4cd8-41b4-92dd-8edd8a99df92",
   "metadata": {},
   "outputs": [],
   "source": [
    "# 假设你已经有了一个训练好的模型 clf 和一个 StandardScaler 对象 scaler\n",
    "model_path = './model/svm_model_origin.joblib'\n",
    "clf = load_model(model_path)\n",
    "\n",
    "# 加载新的图片\n",
    "new_image = cv2.imread(new_image_path)\n",
    "new_image.shape, type(new_image)"
   ]
  },
  {
   "cell_type": "code",
   "execution_count": null,
   "id": "7ad350af-aeea-4f98-9c7a-ec25d50bfb83",
   "metadata": {},
   "outputs": [],
   "source": [
    "# 将图片数据转换为模型可以处理的格式\n",
    "new_features = preprocess_image(new_image) "
   ]
  },
  {
   "cell_type": "code",
   "execution_count": null,
   "id": "51d0b2da-7d30-49ec-9278-b1542ad027d2",
   "metadata": {},
   "outputs": [],
   "source": [
    "# 使用相同的StandardScaler进行标准化\n",
    "new_features = scaler.transform(new_features)\n",
    "new_features.shape, type(new_features)"
   ]
  },
  {
   "cell_type": "code",
   "execution_count": null,
   "id": "43cde813-fa18-4def-8874-85d46abe880f",
   "metadata": {},
   "outputs": [],
   "source": [
    "# 使用模型进行预测\n",
    "prediction = clf.predict(new_features)"
   ]
  },
  {
   "cell_type": "code",
   "execution_count": null,
   "id": "c21bf4da-84fd-4e35-8df7-3bed81d7c0a4",
   "metadata": {},
   "outputs": [],
   "source": [
    "#使用模型进行预测\n",
    "#new_features 已经是归一化后的数组，并且形状正确\n",
    "predictions = clf.predict(new_features)\n",
    "\n",
    "#将预测结果应用到图片上\n",
    "#original_image 是原始图片的NumPy数组\n",
    "original_image = new_image\n",
    "height, width, _ = original_image.shape\n",
    "predicted_image = np.zeros_like(original_image)\n",
    "\n",
    "for i in range(height):\n",
    "    for j in range(width):\n",
    "        #获取当前像素的索引\n",
    "        pixel_index = i * width + j\n",
    "        \n",
    "        #根据预测结果设置像素的颜色\n",
    "        if predictions[pixel_index] == 1:\n",
    "            predicted_image[i, j] = (255, 255, 255)  # 白色\n",
    "        else:\n",
    "            predicted_image[i, j] = (0, 0, 0)  # 黑色"
   ]
  },
  {
   "cell_type": "code",
   "execution_count": null,
   "id": "12de4fb7-4df6-4c8b-b408-2273e821ba5c",
   "metadata": {},
   "outputs": [],
   "source": [
    "# 显示原始图片\n",
    "plt.figure(figsize=(10, 5))\n",
    "plt.subplot(1, 2, 1)\n",
    "plt.imshow(cv2.cvtColor(original_image, cv2.COLOR_BGR2RGB))\n",
    "plt.title('Original Image')\n",
    "plt.axis('off')\n",
    "\n",
    "# 显示预测后的图片\n",
    "plt.subplot(1, 2, 2)\n",
    "plt.imshow(cv2.cvtColor(predicted_image, cv2.COLOR_BGR2RGB))\n",
    "plt.title('Predicted Image')\n",
    "plt.axis('off')\n",
    "\n",
    "# 显示图像\n",
    "plt.show()\n",
    "    \n",
    "# 保存预测后的图片\n",
    "new_image_name = os.path.splitext(os.path.basename(new_image_path))[0]\n",
    "\n",
    "if is_dual == False:\n",
    "    save_is_dual = 'origin'\n",
    "elif is_dual == True:\n",
    "    save_is_dual = 'dual'\n",
    "\n",
    "save_path = f'./result_new/pred_{new_image_name}_{save_is_dual}_.jpg'\n",
    "cv2.imwrite(save_path, predicted_image)\n",
    "print(f'Predicted image saved to {save_path}')"
   ]
  },
  {
   "cell_type": "code",
   "execution_count": null,
   "id": "e90dc151-1d7a-4859-bcf0-cf0c92080018",
   "metadata": {},
   "outputs": [],
   "source": [
    "end_time = time.time()\n",
    "# 计算并打印运行时间\n",
    "elapsed_time = end_time - start_time\n",
    "print(f\"Elapsed time: {elapsed_time} seconds\")"
   ]
  },
  {
   "cell_type": "code",
   "execution_count": null,
   "id": "55f2983d-b9a0-484f-9816-22052e3a12e0",
   "metadata": {},
   "outputs": [],
   "source": [
    "import cv2\n",
    "import numpy as np\n",
    "from sklearn.metrics import confusion_matrix\n",
    "\n",
    "def calculate_performance_metrics(y_true, y_pred):\n",
    "    # 计算混淆矩阵\n",
    "    tn, fp, fn, tp = confusion_matrix(y_true, y_pred).ravel()\n",
    "    \n",
    "    # 计算像素准确率（PA）\n",
    "    pa = (tp + tn) / (tp + tn + fp + fn)\n",
    "    \n",
    "    # 计算交并比（IoU）\n",
    "    iou = tp / (tp + fp + fn)\n",
    "    \n",
    "    return pa, iou\n",
    "\n",
    "def load_and_mask_binary_image(image_path):\n",
    "    # 加载图像\n",
    "    image = cv2.imread(image_path, cv2.IMREAD_GRAYSCALE)\n",
    "    if image is None:\n",
    "        raise ValueError(f\"无法加载图像：{image_path}\")\n",
    "    \n",
    "    # 创建掩码以仅保留二值像素（0或255）\n",
    "    mask = (image == 0) | (image == 255)\n",
    "    # 应用掩码并转换为二值图像\n",
    "    binary_image = image.copy()\n",
    "    binary_image[~mask] = 0  # 将非二值像素设置为0\n",
    "    return binary_image, mask\n",
    "\n",
    "# 输入图像的路径\n",
    "test_image_path = save_path  # 测试得到的图像路径\n",
    "annotated_image_path = f'./input_data/{data_name}_label.png'  # 标注的图像路径\n",
    "\n",
    "# 加载并处理图像\n",
    "y_true, true_mask = load_and_mask_binary_image(annotated_image_path)\n",
    "y_pred, _ = load_and_mask_binary_image(test_image_path)\n",
    "\n",
    "# 将图像转换为二值数组（0或1）\n",
    "y_true_binary = (y_true > 0).astype(int)\n",
    "y_pred_binary = (y_pred > 0).astype(int)\n",
    "\n",
    "# 应用掩码以仅考虑二值像素\n",
    "y_true_binary = y_true_binary[true_mask]\n",
    "y_pred_binary = y_pred_binary[true_mask]\n",
    "\n",
    "# 计算性能指标\n",
    "pa, iou = calculate_performance_metrics(y_true_binary, y_pred_binary)\n",
    "\n",
    "print(f\"Pixel Accuracy (PA): {pa:.4f}\")\n",
    "print(f\"Intersection over Union (IoU): {iou:.4f}\")"
   ]
  },
  {
   "cell_type": "code",
   "execution_count": null,
   "id": "3dea01f3-596b-401d-80d3-74a41f71195d",
   "metadata": {},
   "outputs": [],
   "source": []
  }
 ],
 "metadata": {
  "kernelspec": {
   "display_name": "Python 3 (ipykernel)",
   "language": "python",
   "name": "python3"
  },
  "language_info": {
   "codemirror_mode": {
    "name": "ipython",
    "version": 3
   },
   "file_extension": ".py",
   "mimetype": "text/x-python",
   "name": "python",
   "nbconvert_exporter": "python",
   "pygments_lexer": "ipython3",
   "version": "3.9.18"
  }
 },
 "nbformat": 4,
 "nbformat_minor": 5
}
