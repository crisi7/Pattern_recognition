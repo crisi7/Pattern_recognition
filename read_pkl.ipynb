{
 "cells": [
  {
   "cell_type": "code",
   "execution_count": 2,
   "id": "d339caf2-0576-489b-a1ad-0bbe496a33e7",
   "metadata": {},
   "outputs": [
    {
     "name": "stdout",
     "output_type": "stream",
     "text": [
      "{'features': [Ellipsis], 'labels': [Ellipsis]}\n"
     ]
    }
   ],
   "source": [
    "import pickle\n",
    "\n",
    "# 指定你的 .pkl 文件路径\n",
    "file_path = './RGB_data/0618_data.pkl'\n",
    "\n",
    "try:\n",
    "    # 使用 'rb' 模式打开文件，因为 pickle 模块处理的是二进制数据\n",
    "    with open(file_path, 'rb') as file:\n",
    "        # 使用 pickle 模块的 load 方法来加载文件内容\n",
    "        # fix_imports=True 用于兼容Python 2.x和Python 3.x之间的差异\n",
    "        # encoding='ASCII' 指定文件编码为ASCII\n",
    "        data = pickle.load(file, fix_imports=True, encoding='ASCII')\n",
    "\n",
    "    # 打印加载后的数据\n",
    "    print(data)\n",
    "except (pickle.UnpicklingError, FileNotFoundError, EOFError, AttributeError) as e:\n",
    "    print(f\"An error occurred: {e}\")"
   ]
  },
  {
   "cell_type": "code",
   "execution_count": null,
   "id": "e2cda2a3-06a8-480d-8cf8-f928694f5694",
   "metadata": {},
   "outputs": [],
   "source": []
  }
 ],
 "metadata": {
  "kernelspec": {
   "display_name": "Python 3 (ipykernel)",
   "language": "python",
   "name": "python3"
  },
  "language_info": {
   "codemirror_mode": {
    "name": "ipython",
    "version": 3
   },
   "file_extension": ".py",
   "mimetype": "text/x-python",
   "name": "python",
   "nbconvert_exporter": "python",
   "pygments_lexer": "ipython3",
   "version": "3.9.20"
  }
 },
 "nbformat": 4,
 "nbformat_minor": 5
}
