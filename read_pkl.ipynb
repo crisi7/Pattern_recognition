{
 "cells": [
  {
   "cell_type": "code",
   "execution_count": 8,
   "id": "d339caf2-0576-489b-a1ad-0bbe496a33e7",
   "metadata": {},
   "outputs": [
    {
     "name": "stdout",
     "output_type": "stream",
     "text": [
      "{'features': [Ellipsis], 'labels': [Ellipsis]}\n"
     ]
    }
   ],
   "source": [
    "import pickle\n",
    "\n",
    "# 假设你的 pkl 文件名为 'data.pkl'\n",
    "file_path = './RGB_data/0854_data.pkl'\n",
    "\n",
    "try:\n",
    "    # 使用 'rb' 模式打开文件，因为 pickle 模块处理的是二进制数据\n",
    "    with open(file_path, 'rb') as file:\n",
    "        # 使用 pickle 模块的 load 方法来加载文件内容\n",
    "        data = pickle.load(file)\n",
    "    # 打印加载后的数据\n",
    "    print(data)\n",
    "except (pickle.UnpicklingError, FileNotFoundError, EOFError) as e:\n",
    "    print(f\"An error occurred: {e}\")"
   ]
  }
 ],
 "metadata": {
  "kernelspec": {
   "display_name": "Python 3 (ipykernel)",
   "language": "python",
   "name": "python3"
  },
  "language_info": {
   "codemirror_mode": {
    "name": "ipython",
    "version": 3
   },
   "file_extension": ".py",
   "mimetype": "text/x-python",
   "name": "python",
   "nbconvert_exporter": "python",
   "pygments_lexer": "ipython3",
   "version": "3.9.20"
  }
 },
 "nbformat": 4,
 "nbformat_minor": 5
}
