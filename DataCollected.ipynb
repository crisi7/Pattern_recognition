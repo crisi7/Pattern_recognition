{
 "cells": [
  {
   "cell_type": "code",
   "execution_count": 1,
   "id": "19545db9-95e7-482a-af6a-7d423e6a29a3",
   "metadata": {},
   "outputs": [],
   "source": [
    "import os\n",
    "import cv2\n",
    "import numpy as np\n",
    "from sklearn import svm\n",
    "from sklearn.preprocessing import StandardScaler\n",
    "import matplotlib.pyplot as plt"
   ]
  },
  {
   "cell_type": "code",
   "execution_count": 2,
   "id": "3baa39e4-64b5-4743-84a3-cfaad4a7e22b",
   "metadata": {},
   "outputs": [],
   "source": [
    "# 数据暂存\n",
    "features = []\n",
    "labels = []"
   ]
  },
  {
   "cell_type": "code",
   "execution_count": 3,
   "id": "2b3c7f88-2526-4be6-97d9-cdadcf6fb115",
   "metadata": {},
   "outputs": [],
   "source": [
    "# 用于决定采集的数据标签\n",
    "is_positive = False"
   ]
  },
  {
   "cell_type": "code",
   "execution_count": 4,
   "id": "d84467bf-caa7-4bfc-b243-c125524ec6ff",
   "metadata": {},
   "outputs": [],
   "source": [
    "# 鼠标回调函数\n",
    "def on_mouse(event, x, y, flags, param):\n",
    "    global features, labels, is_positive\n",
    "\n",
    "    if event == cv2.EVENT_LBUTTONDOWN:\n",
    "        color = img[y, x] # 虽然是img[y, x], 但是返回的是BGR三个通道的数值\n",
    "\n",
    "        # 根据标签决定是正样本还是负样本，标签在主函数中根据键入来更改\n",
    "        if is_positive:\n",
    "            labels.append(1)\n",
    "        else:\n",
    "            labels.append(0)\n",
    "\n",
    "        features.append(color)\n",
    "        print(f'Collected color: {color} at position: {(x, y)} with label: {labels[-1]}')"
   ]
  },
  {
   "cell_type": "code",
   "execution_count": 5,
   "id": "6194ef12-f067-42e7-beca-cbae197735c9",
   "metadata": {},
   "outputs": [
    {
     "name": "stdout",
     "output_type": "stream",
     "text": [
      "Collecting positive samples. Press 'n' to switch, 'Esc' to stop.\n",
      "Collected color: [253 247 239] at position: (405, 44) with label: 1\n",
      "Collected color: [240 231 219] at position: (395, 44) with label: 1\n",
      "Collected color: [229 219 208] at position: (372, 46) with label: 1\n",
      "Collected color: [255 247 237] at position: (338, 51) with label: 1\n",
      "Collected color: [224 217 206] at position: (360, 51) with label: 1\n",
      "Collected color: [235 220 217] at position: (362, 48) with label: 1\n",
      "Collected color: [235 226 211] at position: (346, 52) with label: 1\n",
      "Collected color: [230 218 210] at position: (326, 56) with label: 1\n",
      "Collected color: [248 246 249] at position: (297, 62) with label: 1\n",
      "Collected color: [253 252 251] at position: (295, 63) with label: 1\n",
      "Collected color: [212 212 221] at position: (280, 70) with label: 1\n",
      "Collected color: [250 249 249] at position: (262, 77) with label: 1\n",
      "Collected color: [247 248 247] at position: (251, 79) with label: 1\n",
      "Collected color: [253 250 251] at position: (241, 83) with label: 1\n",
      "Collected color: [255 253 255] at position: (258, 75) with label: 1\n",
      "Collected color: [244 238 239] at position: (272, 67) with label: 1\n",
      "Collected color: [225 218 225] at position: (233, 87) with label: 1\n",
      "Collected color: [253 249 251] at position: (205, 92) with label: 1\n",
      "Collected color: [221 219 228] at position: (187, 97) with label: 1\n",
      "Collected color: [235 228 230] at position: (164, 105) with label: 1\n",
      "Collected color: [187 192 194] at position: (108, 122) with label: 1\n",
      "Collected color: [183 181 184] at position: (98, 130) with label: 1\n",
      "Collected color: [195 197 201] at position: (76, 141) with label: 1\n",
      "Collected color: [174 171 177] at position: (30, 160) with label: 1\n",
      "Collected color: [165 163 169] at position: (12, 164) with label: 1\n",
      "Collected color: [193 186 189] at position: (10, 191) with label: 1\n",
      "Collected color: [199 199 211] at position: (12, 221) with label: 1\n",
      "Collected color: [188 184 189] at position: (40, 232) with label: 1\n",
      "Collected color: [179 176 181] at position: (97, 231) with label: 1\n",
      "Collected color: [160 163 169] at position: (166, 243) with label: 1\n",
      "Collected color: [144 148 153] at position: (258, 234) with label: 1\n",
      "Collected color: [195 193 194] at position: (344, 236) with label: 1\n",
      "Collected color: [181 179 179] at position: (401, 240) with label: 1\n",
      "Collected color: [183 178 177] at position: (467, 235) with label: 1\n",
      "Collected color: [171 171 170] at position: (483, 229) with label: 1\n",
      "Collected color: [168 163 164] at position: (488, 201) with label: 1\n",
      "Collected color: [182 174 173] at position: (488, 184) with label: 1\n",
      "Collected color: [199 191 191] at position: (464, 171) with label: 1\n",
      "Collected color: [206 203 201] at position: (452, 161) with label: 1\n",
      "Collected color: [180 174 173] at position: (447, 158) with label: 1\n",
      "Collected color: [204 193 191] at position: (426, 147) with label: 1\n",
      "Collected color: [174 170 169] at position: (402, 134) with label: 1\n",
      "Collected color: [185 181 180] at position: (385, 118) with label: 1\n",
      "Collected color: [203 195 192] at position: (375, 111) with label: 1\n",
      "Collected color: [214 199 193] at position: (371, 98) with label: 1\n",
      "Collected color: [222 210 208] at position: (364, 89) with label: 1\n",
      "Collected color: [171 157 161] at position: (362, 76) with label: 1\n",
      "Collected color: [239 230 222] at position: (371, 57) with label: 1\n",
      "Collected color: [254 247 238] at position: (380, 50) with label: 1\n",
      "Collected color: [232 227 219] at position: (394, 44) with label: 1\n",
      "Collected color: [241 240 234] at position: (409, 42) with label: 1\n",
      "Collected color: [255 254 252] at position: (290, 63) with label: 1\n",
      "Collected color: [209 212 215] at position: (257, 101) with label: 1\n",
      "Collected color: [213 209 211] at position: (328, 108) with label: 1\n",
      "Collected color: [209 212 226] at position: (214, 124) with label: 1\n",
      "Collected color: [244 241 237] at position: (142, 156) with label: 1\n",
      "Collected color: [169 172 185] at position: (261, 167) with label: 1\n",
      "Collected color: [226 224 230] at position: (304, 144) with label: 1\n",
      "Collected color: [189 190 191] at position: (114, 189) with label: 1\n",
      "Collected color: [199 198 200] at position: (299, 208) with label: 1\n",
      "Collected color: [200 199 199] at position: (356, 162) with label: 1\n",
      "Collecting positive samples. Press 'y' to switch, 'Esc' to stop.\n",
      "Collected color: [156 149 148] at position: (11, 142) with label: 0\n",
      "Collected color: [ 92 102 109] at position: (34, 138) with label: 0\n",
      "Collected color: [100 112 115] at position: (62, 129) with label: 0\n",
      "Collected color: [100 111 116] at position: (81, 119) with label: 0\n",
      "Collected color: [107 119 124] at position: (103, 112) with label: 0\n",
      "Collected color: [110 119 134] at position: (128, 104) with label: 0\n",
      "Collected color: [162 164 162] at position: (160, 95) with label: 0\n",
      "Collected color: [ 79 103  97] at position: (182, 84) with label: 0\n",
      "Collected color: [ 81 101 103] at position: (197, 79) with label: 0\n",
      "Collected color: [252 255 253] at position: (233, 67) with label: 0\n",
      "Collected color: [173 173 169] at position: (270, 56) with label: 0\n",
      "Collected color: [121 131 136] at position: (288, 54) with label: 0\n",
      "Collected color: [74 70 69] at position: (317, 45) with label: 0\n",
      "Collected color: [81 91 76] at position: (352, 38) with label: 0\n",
      "Collected color: [ 84 102  79] at position: (362, 36) with label: 0\n",
      "Collected color: [56 52 49] at position: (377, 35) with label: 0\n",
      "Collected color: [54 56 43] at position: (394, 33) with label: 0\n",
      "Collected color: [49 52 48] at position: (412, 32) with label: 0\n",
      "Collected color: [81 77 73] at position: (433, 33) with label: 0\n",
      "Collected color: [64 72 55] at position: (458, 35) with label: 0\n",
      "Collected color: [62 68 56] at position: (464, 40) with label: 0\n",
      "Collected color: [65 74 60] at position: (461, 47) with label: 0\n",
      "Collected color: [ 71 104  93] at position: (442, 52) with label: 0\n",
      "Collected color: [ 90 113 111] at position: (432, 50) with label: 0\n",
      "Collected color: [116 116 114] at position: (420, 49) with label: 0\n",
      "Collected color: [205 199 193] at position: (407, 55) with label: 0\n",
      "Collected color: [124 128 134] at position: (386, 64) with label: 0\n",
      "Collected color: [109 117 117] at position: (384, 70) with label: 0\n",
      "Collected color: [112 126 125] at position: (386, 83) with label: 0\n",
      "Collected color: [166 161 159] at position: (396, 97) with label: 0\n",
      "Collected color: [120 128 126] at position: (429, 120) with label: 0\n",
      "Collected color: [112 123 117] at position: (451, 133) with label: 0\n",
      "Collected color: [ 95 107 110] at position: (474, 146) with label: 0\n",
      "Collected color: [79 82 94] at position: (495, 142) with label: 0\n",
      "Collected color: [55 73 65] at position: (474, 112) with label: 0\n",
      "Collected color: [40 51 41] at position: (482, 88) with label: 0\n",
      "Collected color: [59 66 72] at position: (440, 85) with label: 0\n",
      "Collected color: [83 81 75] at position: (429, 66) with label: 0\n",
      "Collected color: [60 71 61] at position: (474, 70) with label: 0\n",
      "Collected color: [81 89 77] at position: (482, 65) with label: 0\n",
      "Collected color: [69 60 54] at position: (470, 14) with label: 0\n",
      "Collected color: [70 65 58] at position: (442, 18) with label: 0\n",
      "Collected color: [60 62 53] at position: (434, 24) with label: 0\n",
      "Collected color: [60 54 46] at position: (407, 14) with label: 0\n",
      "Collected color: [50 46 37] at position: (394, 20) with label: 0\n",
      "Collected color: [56 54 46] at position: (390, 27) with label: 0\n",
      "Collected color: [48 47 33] at position: (370, 19) with label: 0\n",
      "Collected color: [71 62 57] at position: (344, 18) with label: 0\n",
      "Collected color: [79 78 72] at position: (316, 32) with label: 0\n",
      "Collected color: [63 64 53] at position: (295, 40) with label: 0\n",
      "Collected color: [59 59 48] at position: (280, 14) with label: 0\n",
      "Collected color: [51 53 39] at position: (248, 24) with label: 0\n",
      "Collected color: [ 73 103  94] at position: (222, 59) with label: 0\n",
      "Collected color: [57 66 60] at position: (208, 27) with label: 0\n",
      "Collected color: [47 51 40] at position: (201, 15) with label: 0\n",
      "Collected color: [52 58 53] at position: (176, 51) with label: 0\n",
      "Collected color: [68 87 86] at position: (166, 77) with label: 0\n",
      "Collected color: [55 64 52] at position: (157, 28) with label: 0\n",
      "Collected color: [252 220 182] at position: (150, 12) with label: 0\n",
      "Collected color: [38 45 34] at position: (127, 36) with label: 0\n",
      "Collected color: [41 55 49] at position: (117, 80) with label: 0\n",
      "Collected color: [56 61 54] at position: (75, 56) with label: 0\n",
      "Collected color: [38 43 39] at position: (59, 17) with label: 0\n",
      "Collected color: [19 20 20] at position: (21, 36) with label: 0\n",
      "Collected color: [41 44 45] at position: (11, 88) with label: 0\n",
      "Collected color: [71 83 82] at position: (99, 89) with label: 0\n",
      "Collected color: [48 61 52] at position: (60, 50) with label: 0\n",
      "Collected color: [24 24 23] at position: (45, 80) with label: 0\n",
      "Stopping data collection.\n"
     ]
    }
   ],
   "source": [
    "# 开启新窗口\n",
    "cv2.namedWindow('image')\n",
    "cv2.setMouseCallback(\"image\", on_mouse)\n",
    "# 加载图片\n",
    "img_path = './input_data/0618.png'\n",
    "img = cv2.imread(img_path)\n",
    "image_name = os.path.splitext(os.path.basename(img_path))[0]\n",
    "\n",
    "while True:\n",
    "    cv2.imshow('image', img)\n",
    "\n",
    "    key = cv2.waitKey(1) & 0xFF\n",
    "\n",
    "    if key == ord('y'):\n",
    "        print(f\"Collecting positive samples. Press 'n' to switch, 'Esc' to stop.\")\n",
    "        is_positive = True\n",
    "    elif key == ord('n'):\n",
    "        print(f\"Collecting positive samples. Press 'y' to switch, 'Esc' to stop.\")\n",
    "        is_positive = False\n",
    "    elif key == 27:\n",
    "        print(\"Stopping data collection.\")\n",
    "        break\n",
    "# 关闭窗口\n",
    "cv2.destroyAllWindows()"
   ]
  },
  {
   "cell_type": "code",
   "execution_count": 6,
   "id": "01bd6be8-fd1c-41b7-a620-d498b2c78674",
   "metadata": {},
   "outputs": [],
   "source": [
    "# 转为numpy数组处理\n",
    "features = np.array(features)\n",
    "labels = np.array(labels)"
   ]
  },
  {
   "cell_type": "markdown",
   "id": "c50fe90d-b333-42de-ade3-c26556277fb9",
   "metadata": {},
   "source": [
    "绘制R-G图"
   ]
  },
  {
   "cell_type": "code",
   "execution_count": 7,
   "id": "6bcfc0bc-d00d-4060-bc62-7528166b320b",
   "metadata": {},
   "outputs": [],
   "source": [
    "# 绘制R-G图\n",
    "def Plot_BGR(features):\n",
    "    # 分离正负样本\n",
    "    positive_features = features[labels == 1]\n",
    "    negative_features = features[labels == 0]\n",
    "    \n",
    "    # opencv 默认提取通道是BGR -> B(0), G(1) R(2)\n",
    "    positive_R = positive_features[:, 2]\n",
    "    positive_G = positive_features[:, 1]\n",
    "    \n",
    "    negative_R = negative_features[:, 2]\n",
    "    negative_G = negative_features[:, 1]\n",
    "    \n",
    "    plt.scatter(positive_R, positive_G, color='red', label='Positive Samples')\n",
    "    plt.scatter(negative_R, negative_G, color='blue', label='Negative Samples')\n",
    "    \n",
    "    plt.title('R-G channel Plot')\n",
    "    plt.xlabel('R Channel')\n",
    "    plt.ylabel('G Channel')\n",
    "    plt.legend()\n",
    "    \n",
    "    plt.show()"
   ]
  },
  {
   "cell_type": "code",
   "execution_count": 8,
   "id": "5e0713b8-2bc2-4ac8-8839-3637f8db5f52",
   "metadata": {},
   "outputs": [
    {
     "data": {
      "image/png": "[encoded data removed]",
      "text/plain": [
       "<Figure size 640x480 with 1 Axes>"
      ]
     },
     "metadata": {},
     "output_type": "display_data"
    }
   ],
   "source": [
    "# 未标准化训练集R-G图像\n",
    "Plot_BGR(features)"
   ]
  },
  {
   "cell_type": "markdown",
   "id": "87878afa-8fb5-4043-9f29-7206036cdc05",
   "metadata": {},
   "source": [
    "# 标准化\n",
    "scaler = StandardScaler()\n",
    "features = scaler.fit_transform(features)"
   ]
  },
  {
   "cell_type": "code",
   "execution_count": 9,
   "id": "48dc840b-65eb-439f-ab6f-637d67b28b8e",
   "metadata": {},
   "outputs": [
    {
     "name": "stdout",
     "output_type": "stream",
     "text": [
      "Data has been saved to ./RGB_data/0618_data.pkl\n"
     ]
    }
   ],
   "source": [
    "import pickle\n",
    "\n",
    "# 假设你已经采集了数据并存储在变量 features 和 labels 中\n",
    "features = [...]  # 采集的特征数据\n",
    "labels = [...]    # 采集的标签数据\n",
    "\n",
    "# 指定要保存的文件名\n",
    "file_path = f'./RGB_data/{image_name}_data.pkl'\n",
    "\n",
    "# 使用 'wb' 模式打开文件，因为 pickle 模块处理的是二进制数据\n",
    "with open(file_path, 'wb') as file:\n",
    "    # 使用 pickle 模块的 dump 方法来保存数据\n",
    "    pickle.dump({'features': features, 'labels': labels}, file)\n",
    "\n",
    "print(f'Data has been saved to {file_path}')"
   ]
  },
  {
   "cell_type": "code",
   "execution_count": null,
   "id": "e23aa263-df7a-45a5-94e5-d01471b52237",
   "metadata": {},
   "outputs": [],
   "source": []
  }
 ],
 "metadata": {
  "kernelspec": {
   "display_name": "Python 3 (ipykernel)",
   "language": "python",
   "name": "python3"
  },
  "language_info": {
   "codemirror_mode": {
    "name": "ipython",
    "version": 3
   },
   "file_extension": ".py",
   "mimetype": "text/x-python",
   "name": "python",
   "nbconvert_exporter": "python",
   "pygments_lexer": "ipython3",
   "version": "3.9.20"
  }
 },
 "nbformat": 4,
 "nbformat_minor": 5
}
