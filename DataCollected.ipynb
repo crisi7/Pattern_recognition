{
 "cells": [
  {
   "cell_type": "code",
   "execution_count": 1,
   "id": "19545db9-95e7-482a-af6a-7d423e6a29a3",
   "metadata": {},
   "outputs": [],
   "source": [
    "import os\n",
    "import cv2\n",
    "import numpy as np\n",
    "import pandas as pd\n",
    "import matplotlib.pyplot as plt"
   ]
  },
  {
   "cell_type": "code",
   "execution_count": 2,
   "id": "acb98845-6aaa-48ca-8c5a-72f8de5ffff9",
   "metadata": {},
   "outputs": [],
   "source": [
    "# 选择图片\n",
    "# 0618 0854 1066\n",
    "data_name = '1066'"
   ]
  },
  {
   "cell_type": "code",
   "execution_count": 3,
   "id": "3baa39e4-64b5-4743-84a3-cfaad4a7e22b",
   "metadata": {},
   "outputs": [],
   "source": [
    "# 数据暂存\n",
    "features = []\n",
    "labels = []"
   ]
  },
  {
   "cell_type": "code",
   "execution_count": 4,
   "id": "2b3c7f88-2526-4be6-97d9-cdadcf6fb115",
   "metadata": {},
   "outputs": [],
   "source": [
    "# 用于决定采集的数据标签\n",
    "is_positive = False"
   ]
  },
  {
   "cell_type": "code",
   "execution_count": 5,
   "id": "d84467bf-caa7-4bfc-b243-c125524ec6ff",
   "metadata": {},
   "outputs": [],
   "source": [
    "# 鼠标回调函数\n",
    "def on_mouse(event, x, y, flags, param):\n",
    "    global features, labels, is_positive\n",
    "\n",
    "    if event == cv2.EVENT_LBUTTONDOWN:\n",
    "        color = img[y, x] # 虽然是img[y, x], 但是返回的是BGR三个通道的数值\n",
    "\n",
    "        # 根据标签决定是正样本还是负样本，标签在主函数中根据键入来更改\n",
    "        if is_positive:\n",
    "            labels.append(1)\n",
    "        else:\n",
    "            labels.append(0)\n",
    "\n",
    "        features.append(color)\n",
    "        print(f'Collected color: {color} at position: {(x, y)} with label: {labels[-1]}')"
   ]
  },
  {
   "cell_type": "code",
   "execution_count": 6,
   "id": "6194ef12-f067-42e7-beca-cbae197735c9",
   "metadata": {},
   "outputs": [
    {
     "name": "stdout",
     "output_type": "stream",
     "text": [
      "Collecting negative samples. Press 'y' to switch, 'Esc' to stop.\n",
      "Collecting negative samples. Press 'y' to switch, 'Esc' to stop.\n",
      "Collected color: [255 255 255] at position: (235, 86) with label: 0\n",
      "Collected color: [255 255 253] at position: (246, 86) with label: 0\n",
      "Collected color: [255 255 254] at position: (267, 84) with label: 0\n",
      "Collected color: [255 255 255] at position: (266, 77) with label: 0\n",
      "Collected color: [255 255 255] at position: (225, 71) with label: 0\n",
      "Collected color: [255 255 255] at position: (248, 67) with label: 0\n",
      "Collected color: [255 255 255] at position: (263, 65) with label: 0\n",
      "Collected color: [255 255 255] at position: (287, 62) with label: 0\n",
      "Collected color: [255 255 255] at position: (299, 51) with label: 0\n",
      "Collected color: [255 255 255] at position: (241, 50) with label: 0\n",
      "Collected color: [255 255 255] at position: (200, 43) with label: 0\n",
      "Collected color: [255 255 255] at position: (214, 36) with label: 0\n",
      "Collected color: [255 255 255] at position: (257, 35) with label: 0\n",
      "Collected color: [255 255 255] at position: (290, 35) with label: 0\n",
      "Collected color: [255 255 255] at position: (315, 36) with label: 0\n",
      "Collected color: [255 255 255] at position: (333, 24) with label: 0\n",
      "Collected color: [255 255 255] at position: (337, 10) with label: 0\n",
      "Collected color: [255 255 255] at position: (310, 7) with label: 0\n",
      "Collected color: [255 255 255] at position: (245, 6) with label: 0\n",
      "Collected color: [255 255 255] at position: (184, 1) with label: 0\n",
      "Collected color: [255 255 246] at position: (148, 2) with label: 0\n",
      "Collected color: [255 255 233] at position: (165, 15) with label: 0\n",
      "Collected color: [255 255 255] at position: (270, 17) with label: 0\n",
      "Collected color: [255 255 252] at position: (348, 22) with label: 0\n",
      "Collected color: [34 41 36] at position: (360, 22) with label: 0\n",
      "Collected color: [255 255 255] at position: (228, 20) with label: 0\n",
      "Collected color: [255 255 250] at position: (182, 36) with label: 0\n",
      "Collected color: [255 255 255] at position: (250, 52) with label: 0\n",
      "Collected color: [255 255 255] at position: (310, 46) with label: 0\n",
      "Collected color: [255 255 255] at position: (267, 69) with label: 0\n",
      "Collected color: [255 255 255] at position: (229, 82) with label: 0\n",
      "Collected color: [255 255 255] at position: (247, 83) with label: 0\n",
      "Collected color: [255 255 255] at position: (283, 61) with label: 0\n",
      "Collected color: [255 255 255] at position: (243, 31) with label: 0\n",
      "Collected color: [255 255 255] at position: (266, 25) with label: 0\n",
      "Collected color: [255 255 255] at position: (320, 22) with label: 0\n",
      "Collected color: [255 255 255] at position: (341, 15) with label: 0\n",
      "Collected color: [255 255 255] at position: (227, 9) with label: 0\n",
      "Collected color: [255 255 255] at position: (183, 13) with label: 0\n",
      "Collected color: [255 255 255] at position: (262, 22) with label: 0\n",
      "Collected color: [255 255 255] at position: (292, 28) with label: 0\n",
      "Collected color: [255 255 255] at position: (225, 45) with label: 0\n",
      "Collected color: [255 255 255] at position: (208, 62) with label: 0\n",
      "Collected color: [255 255 254] at position: (251, 82) with label: 0\n",
      "Collected color: [255 255 255] at position: (283, 52) with label: 0\n",
      "Collected color: [255 255 255] at position: (253, 28) with label: 0\n",
      "Collected color: [255 255 252] at position: (171, 8) with label: 0\n",
      "Collected color: [255 255 255] at position: (227, 22) with label: 0\n",
      "Collected color: [255 255 255] at position: (227, 68) with label: 0\n",
      "Collected color: [255 255 255] at position: (314, 50) with label: 0\n",
      "Collected color: [255 255 255] at position: (209, 49) with label: 0\n",
      "Collected color: [255 255 255] at position: (226, 35) with label: 0\n",
      "Collected color: [255 255 255] at position: (258, 43) with label: 0\n",
      "Stopping data collection.\n"
     ]
    }
   ],
   "source": [
    "# 开启新窗口\n",
    "cv2.namedWindow('image')\n",
    "cv2.setMouseCallback(\"image\", on_mouse)\n",
    "# 加载图片\n",
    "img_path = f'./input_data/{data_name}.png'\n",
    "img = cv2.imread(img_path)\n",
    "img_name = os.path.splitext(os.path.basename(img_path))[0]\n",
    "\n",
    "while True:\n",
    "    cv2.imshow('image', img)\n",
    "\n",
    "    key = cv2.waitKey(1) & 0xFF\n",
    "\n",
    "    if key == ord('y'):\n",
    "        print(f\"Collecting positive samples. Press 'n' to switch, 'Esc' to stop.\")\n",
    "        is_positive = True\n",
    "    elif key == ord('n'):\n",
    "        print(f\"Collecting negative samples. Press 'y' to switch, 'Esc' to stop.\")\n",
    "        is_positive = False\n",
    "    elif key == 27:\n",
    "        print(\"Stopping data collection.\")\n",
    "        break\n",
    "# 关闭窗口\n",
    "cv2.destroyAllWindows()"
   ]
  },
  {
   "cell_type": "code",
   "execution_count": 7,
   "id": "01bd6be8-fd1c-41b7-a620-d498b2c78674",
   "metadata": {},
   "outputs": [],
   "source": [
    "# 转为numpy数组处理\n",
    "features = np.array(features)\n",
    "labels = np.array(labels)"
   ]
  },
  {
   "cell_type": "code",
   "execution_count": 8,
   "id": "957000cf-234b-4de0-ae79-6a154e616ae7",
   "metadata": {},
   "outputs": [
    {
     "name": "stdout",
     "output_type": "stream",
     "text": [
      "Data has been saved to ././RGB_data/data_1066.csv\n"
     ]
    }
   ],
   "source": [
    "# 数据保存到 CSV 文件的函数\n",
    "def save_to_csv(features, labels, filename):\n",
    "    # 检查文件是否存在\n",
    "    if os.path.exists(filename):\n",
    "        # 读取现有的 CSV 文件\n",
    "        existing_data = pd.read_csv(filename)\n",
    "        # 将新数据转换为 DataFrame\n",
    "        new_data = pd.DataFrame({\n",
    "            'B': features[:, 0],\n",
    "            'G': features[:, 1],\n",
    "            'R': features[:, 2],\n",
    "            'Label': labels\n",
    "        })\n",
    "        # 合并数据\n",
    "        combined_data = pd.concat([existing_data, new_data], ignore_index=True)\n",
    "        # 保存合并后的数据\n",
    "        combined_data.to_csv(filename, index=False)\n",
    "    else:\n",
    "        # 如果文件不存在，直接保存新数据\n",
    "        new_data = pd.DataFrame({\n",
    "            'B': features[:, 0],\n",
    "            'G': features[:, 1],\n",
    "            'R': features[:, 2],\n",
    "            'Label': labels\n",
    "        })\n",
    "        new_data.to_csv(filename, index=False)\n",
    "\n",
    "# 采集完数据后，调用 save_to_csv 函数保存数据\n",
    "csv_filename = f'././RGB_data/data_{img_name}.csv'\n",
    "save_to_csv(features, labels, csv_filename)\n",
    "\n",
    "print(f'Data has been saved to {csv_filename}')"
   ]
  },
  {
   "cell_type": "markdown",
   "id": "c50fe90d-b333-42de-ade3-c26556277fb9",
   "metadata": {},
   "source": [
    "绘制R-G图"
   ]
  },
  {
   "cell_type": "code",
   "execution_count": 9,
   "id": "6bcfc0bc-d00d-4060-bc62-7528166b320b",
   "metadata": {},
   "outputs": [],
   "source": [
    "# 绘制R-G图\n",
    "def Plot_BGR(features):\n",
    "    # 分离正负样本\n",
    "    positive_features = features[labels == 1]\n",
    "    negative_features = features[labels == 0]\n",
    "    \n",
    "    # opencv 默认提取通道是BGR -> B(0), G(1) R(2)\n",
    "    positive_R = positive_features[:, 2]\n",
    "    positive_G = positive_features[:, 1]\n",
    "    \n",
    "    negative_R = negative_features[:, 2]\n",
    "    negative_G = negative_features[:, 1]\n",
    "    \n",
    "    plt.scatter(positive_R, positive_G, color='red', label='Positive Samples')\n",
    "    plt.scatter(negative_R, negative_G, color='blue', label='Negative Samples')\n",
    "    \n",
    "    plt.title(f'R-G channel Plot of {img_name}')\n",
    "    plt.xlabel('R Channel')\n",
    "    plt.ylabel('G Channel')\n",
    "    plt.legend()\n",
    "    plt.savefig(f'./RG_png/{img_name}_RG.png')\n",
    "    plt.show()\n"
   ]
  },
  {
   "cell_type": "code",
   "execution_count": 10,
   "id": "5e0713b8-2bc2-4ac8-8839-3637f8db5f52",
   "metadata": {},
   "outputs": [
    {
     "data": {
      "image/png": "[encoded data removed]",
      "text/plain": [
       "<Figure size 640x480 with 1 Axes>"
      ]
     },
     "metadata": {},
     "output_type": "display_data"
    }
   ],
   "source": [
    "# 未标准化训练集R-G图像\n",
    "Plot_BGR(features)"
   ]
  },
  {
   "cell_type": "code",
   "execution_count": null,
   "id": "e23aa263-df7a-45a5-94e5-d01471b52237",
   "metadata": {},
   "outputs": [],
   "source": []
  }
 ],
 "metadata": {
  "kernelspec": {
   "display_name": "Python 3 (ipykernel)",
   "language": "python",
   "name": "python3"
  },
  "language_info": {
   "codemirror_mode": {
    "name": "ipython",
    "version": 3
   },
   "file_extension": ".py",
   "mimetype": "text/x-python",
   "name": "python",
   "nbconvert_exporter": "python",
   "pygments_lexer": "ipython3",
   "version": "3.9.20"
  }
 },
 "nbformat": 4,
 "nbformat_minor": 5
}
