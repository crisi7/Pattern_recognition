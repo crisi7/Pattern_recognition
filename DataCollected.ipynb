{
 "cells": [
  {
   "cell_type": "code",
   "execution_count": 1,
   "id": "19545db9-95e7-482a-af6a-7d423e6a29a3",
   "metadata": {},
   "outputs": [],
   "source": [
    "import os\n",
    "import cv2\n",
    "import numpy as np\n",
    "import pandas as pd\n",
    "import matplotlib.pyplot as plt"
   ]
  },
  {
   "cell_type": "code",
   "execution_count": 2,
   "id": "acb98845-6aaa-48ca-8c5a-72f8de5ffff9",
   "metadata": {},
   "outputs": [],
   "source": [
    "# 选择图片\n",
    "# 1 2 3\n",
    "target = 2\n",
    "\n",
    "if target==1:\n",
    "    data_name = '0618'\n",
    "elif target==2:\n",
    "    data_name = '0854'\n",
    "elif target==3:\n",
    "    data_name = '1066'"
   ]
  },
  {
   "cell_type": "code",
   "execution_count": 3,
   "id": "3baa39e4-64b5-4743-84a3-cfaad4a7e22b",
   "metadata": {},
   "outputs": [],
   "source": [
    "# 数据暂存\n",
    "features = []\n",
    "labels = []"
   ]
  },
  {
   "cell_type": "code",
   "execution_count": 4,
   "id": "2b3c7f88-2526-4be6-97d9-cdadcf6fb115",
   "metadata": {},
   "outputs": [],
   "source": [
    "# 用于决定采集的数据标签\n",
    "is_positive = False"
   ]
  },
  {
   "cell_type": "code",
   "execution_count": 5,
   "id": "d84467bf-caa7-4bfc-b243-c125524ec6ff",
   "metadata": {},
   "outputs": [],
   "source": [
    "# 鼠标回调函数\n",
    "def on_mouse(event, x, y, flags, param):\n",
    "    global features, labels, is_positive\n",
    "\n",
    "    if event == cv2.EVENT_LBUTTONDOWN:\n",
    "        color = img[y, x] # 虽然是img[y, x], 但是返回的是BGR三个通道的数值\n",
    "\n",
    "        # 根据标签决定是正样本还是负样本，标签在主函数中根据键入来更改\n",
    "        if is_positive:\n",
    "            labels.append(1)\n",
    "        else:\n",
    "            labels.append(0)\n",
    "\n",
    "        features.append(color)\n",
    "        print(f'Collected color: {color} at position: {(x, y)} with label: {labels[-1]}')"
   ]
  },
  {
   "cell_type": "code",
   "execution_count": 6,
   "id": "6194ef12-f067-42e7-beca-cbae197735c9",
   "metadata": {},
   "outputs": [
    {
     "name": "stdout",
     "output_type": "stream",
     "text": [
      "Collecting positive samples. Press 'n' to switch, 'Esc' to stop.\n",
      "Collected color: [215 238 239] at position: (181, 126) with label: 1\n",
      "Collected color: [201 224 223] at position: (170, 157) with label: 1\n",
      "Collected color: [68 68 61] at position: (306, 168) with label: 1\n",
      "Collected color: [52 52 46] at position: (338, 214) with label: 1\n",
      "Collected color: [97 98 90] at position: (253, 174) with label: 1\n",
      "Collected color: [102 105  96] at position: (204, 164) with label: 1\n",
      "Collected color: [172 191 195] at position: (104, 164) with label: 1\n"
     ]
    },
    {
     "ename": "KeyboardInterrupt",
     "evalue": "",
     "output_type": "error",
     "traceback": [
      "\u001b[0;31m---------------------------------------------------------------------------\u001b[0m",
      "\u001b[0;31mKeyboardInterrupt\u001b[0m                         Traceback (most recent call last)",
      "Cell \u001b[0;32mIn[6], line 12\u001b[0m\n\u001b[1;32m      9\u001b[0m \u001b[38;5;28;01mwhile\u001b[39;00m \u001b[38;5;28;01mTrue\u001b[39;00m:\n\u001b[1;32m     10\u001b[0m     cv2\u001b[38;5;241m.\u001b[39mimshow(\u001b[38;5;124m'\u001b[39m\u001b[38;5;124mimage\u001b[39m\u001b[38;5;124m'\u001b[39m, img)\n\u001b[0;32m---> 12\u001b[0m     key \u001b[38;5;241m=\u001b[39m \u001b[43mcv2\u001b[49m\u001b[38;5;241;43m.\u001b[39;49m\u001b[43mwaitKey\u001b[49m\u001b[43m(\u001b[49m\u001b[38;5;241;43m1\u001b[39;49m\u001b[43m)\u001b[49m \u001b[38;5;241m&\u001b[39m \u001b[38;5;241m0xFF\u001b[39m\n\u001b[1;32m     14\u001b[0m     \u001b[38;5;28;01mif\u001b[39;00m key \u001b[38;5;241m==\u001b[39m \u001b[38;5;28mord\u001b[39m(\u001b[38;5;124m'\u001b[39m\u001b[38;5;124my\u001b[39m\u001b[38;5;124m'\u001b[39m):\n\u001b[1;32m     15\u001b[0m         \u001b[38;5;28mprint\u001b[39m(\u001b[38;5;124mf\u001b[39m\u001b[38;5;124m\"\u001b[39m\u001b[38;5;124mCollecting positive samples. Press \u001b[39m\u001b[38;5;124m'\u001b[39m\u001b[38;5;124mn\u001b[39m\u001b[38;5;124m'\u001b[39m\u001b[38;5;124m to switch, \u001b[39m\u001b[38;5;124m'\u001b[39m\u001b[38;5;124mEsc\u001b[39m\u001b[38;5;124m'\u001b[39m\u001b[38;5;124m to stop.\u001b[39m\u001b[38;5;124m\"\u001b[39m)\n",
      "\u001b[0;31mKeyboardInterrupt\u001b[0m: "
     ]
    }
   ],
   "source": [
    "# 开启新窗口\n",
    "cv2.namedWindow('image')\n",
    "cv2.setMouseCallback(\"image\", on_mouse)\n",
    "# 加载图片\n",
    "img_path = f'./input_data/{data_name}.png'\n",
    "img = cv2.imread(img_path)\n",
    "img_name = os.path.splitext(os.path.basename(img_path))[0]\n",
    "\n",
    "while True:\n",
    "    cv2.imshow('image', img)\n",
    "\n",
    "    key = cv2.waitKey(1) & 0xFF\n",
    "\n",
    "    if key == ord('y'):\n",
    "        print(f\"Collecting positive samples. Press 'n' to switch, 'Esc' to stop.\")\n",
    "        is_positive = True\n",
    "    elif key == ord('n'):\n",
    "        print(f\"Collecting negative samples. Press 'y' to switch, 'Esc' to stop.\")\n",
    "        is_positive = False\n",
    "    elif key == 27:\n",
    "        print(\"Stopping data collection.\")\n",
    "        break\n",
    "# 关闭窗口\n",
    "cv2.destroyAllWindows()"
   ]
  },
  {
   "cell_type": "code",
   "execution_count": null,
   "id": "01bd6be8-fd1c-41b7-a620-d498b2c78674",
   "metadata": {},
   "outputs": [],
   "source": [
    "# 转为numpy数组处理\n",
    "features = np.array(features)\n",
    "labels = np.array(labels)"
   ]
  },
  {
   "cell_type": "code",
   "execution_count": null,
   "id": "957000cf-234b-4de0-ae79-6a154e616ae7",
   "metadata": {},
   "outputs": [],
   "source": [
    "# 数据保存到 CSV 文件的函数\n",
    "def save_to_csv(features, labels, filename):\n",
    "    # 检查文件是否存在\n",
    "    if os.path.exists(filename):\n",
    "        # 读取现有的 CSV 文件\n",
    "        existing_data = pd.read_csv(filename)\n",
    "        # 将新数据转换为 DataFrame\n",
    "        new_data = pd.DataFrame({\n",
    "            'B': features[:, 0],\n",
    "            'G': features[:, 1],\n",
    "            'R': features[:, 2],\n",
    "            'Label': labels\n",
    "        })\n",
    "        # 合并数据\n",
    "        combined_data = pd.concat([existing_data, new_data], ignore_index=True)\n",
    "        # 保存合并后的数据\n",
    "        combined_data.to_csv(filename, index=False)\n",
    "    else:\n",
    "        # 如果文件不存在，直接保存新数据\n",
    "        new_data = pd.DataFrame({\n",
    "            'B': features[:, 0],\n",
    "            'G': features[:, 1],\n",
    "            'R': features[:, 2],\n",
    "            'Label': labels\n",
    "        })\n",
    "        new_data.to_csv(filename, index=False)\n",
    "\n",
    "# 采集完数据后，调用 save_to_csv 函数保存数据\n",
    "csv_filename = f'././RGB_data/data_{img_name}_new.csv'\n",
    "save_to_csv(features, labels, csv_filename)\n",
    "\n",
    "print(f'Data has been saved to {csv_filename}')"
   ]
  },
  {
   "cell_type": "markdown",
   "id": "c50fe90d-b333-42de-ade3-c26556277fb9",
   "metadata": {},
   "source": [
    "绘制R-G图"
   ]
  },
  {
   "cell_type": "code",
   "execution_count": null,
   "id": "6bcfc0bc-d00d-4060-bc62-7528166b320b",
   "metadata": {},
   "outputs": [],
   "source": [
    "# 绘制R-G图\n",
    "def Plot_BGR(features):\n",
    "    # 分离正负样本\n",
    "    positive_features = features[labels == 1]\n",
    "    negative_features = features[labels == 0]\n",
    "    \n",
    "    # opencv 默认提取通道是BGR -> B(0), G(1) R(2)\n",
    "    positive_R = positive_features[:, 2]\n",
    "    positive_G = positive_features[:, 1]\n",
    "    \n",
    "    negative_R = negative_features[:, 2]\n",
    "    negative_G = negative_features[:, 1]\n",
    "    \n",
    "    plt.scatter(positive_R, positive_G, color='red', label='Positive Samples')\n",
    "    plt.scatter(negative_R, negative_G, color='blue', label='Negative Samples')\n",
    "    \n",
    "    plt.title(f'R-G channel Plot of {img_name}')\n",
    "    plt.xlabel('R Channel')\n",
    "    plt.ylabel('G Channel')\n",
    "    plt.legend()\n",
    "    plt.show()\n"
   ]
  },
  {
   "cell_type": "code",
   "execution_count": null,
   "id": "5e0713b8-2bc2-4ac8-8839-3637f8db5f52",
   "metadata": {},
   "outputs": [],
   "source": [
    "# 未标准化训练集R-G图像\n",
    "Plot_BGR(features)"
   ]
  },
  {
   "cell_type": "code",
   "execution_count": null,
   "id": "e23aa263-df7a-45a5-94e5-d01471b52237",
   "metadata": {},
   "outputs": [],
   "source": []
  }
 ],
 "metadata": {
  "kernelspec": {
   "display_name": "Python 3 (ipykernel)",
   "language": "python",
   "name": "python3"
  },
  "language_info": {
   "codemirror_mode": {
    "name": "ipython",
    "version": 3
   },
   "file_extension": ".py",
   "mimetype": "text/x-python",
   "name": "python",
   "nbconvert_exporter": "python",
   "pygments_lexer": "ipython3",
   "version": "3.9.20"
  }
 },
 "nbformat": 4,
 "nbformat_minor": 5
}
