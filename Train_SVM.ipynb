{
 "cells": [
  {
   "cell_type": "code",
   "execution_count": null,
   "id": "85d19ee7-9e65-4e8d-a50d-253b2f3496be",
   "metadata": {},
   "outputs": [],
   "source": [
    "import pickle\n",
    "from sklearn import svm\n",
    "from sklearn.preprocessing import StandardScaler\n",
    "from sklearn.model_selection import train_test_split\n",
    "from sklearn.metrics import classification_report, accuracy_score"
   ]
  },
  {
   "cell_type": "code",
   "execution_count": null,
   "id": "19774bc8-c411-4f79-bb0f-606ee2919b21",
   "metadata": {},
   "outputs": [],
   "source": [
    "# 加载数据\n",
    "def load_data(file_path):\n",
    "    with open(file_path, 'rb') as file:\n",
    "        data = pickle.load(file)\n",
    "    return data['features'], data['labels']\n",
    "\n",
    "# 文件路径\n",
    "file_path = './RGB_data/0618_data.pkl'\n",
    "\n",
    "# 加载特征和标签\n",
    "features, labels = load_data(file_path)"
   ]
  },
  {
   "cell_type": "code",
   "execution_count": null,
   "id": "36291dab-fcc0-4d1f-ac56-981d384ead88",
   "metadata": {},
   "outputs": [],
   "source": [
    "# 划分数据集为训练集和测试集\n",
    "X_train, X_test, y_train, y_test = train_test_split(features, labels,\n",
    "                                    test_size=0.25, random_state=42)\n",
    "\n",
    "# 归一化\n",
    "scaler = StandardScaler()\n",
    "X_train = scaler.fit_transform(X_train)\n",
    "X_test = scaler.transform(X_test)\n",
    "\n",
    "# 创建 SVM 分类器，这里使用 RBF 核\n",
    "clf = svm.SVC(kernel='rbf')\n",
    "\n",
    "# 训练 SVM 分类器\n",
    "clf.fit(X_train, y_train)\n",
    "\n",
    "# 进行预测\n",
    "y_pred = clf.predict(X_test)\n",
    "\n",
    "# 评估模型\n",
    "print(\"Classification Report:\")\n",
    "print(classification_report(y_test, y_pred))\n",
    "print(\"Accuracy:\", accuracy_score(y_test, y_pred))"
   ]
  }
 ],
 "metadata": {
  "kernelspec": {
   "display_name": "Python 3 (ipykernel)",
   "language": "python",
   "name": "python3"
  },
  "language_info": {
   "codemirror_mode": {
    "name": "ipython",
    "version": 3
   },
   "file_extension": ".py",
   "mimetype": "text/x-python",
   "name": "python",
   "nbconvert_exporter": "python",
   "pygments_lexer": "ipython3",
   "version": "3.9.20"
  }
 },
 "nbformat": 4,
 "nbformat_minor": 5
}
