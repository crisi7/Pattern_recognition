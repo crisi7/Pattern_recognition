{
 "cells": [
  {
   "cell_type": "code",
   "execution_count": 1,
   "id": "531eee94",
   "metadata": {},
   "outputs": [],
   "source": [
    "import cv2"
   ]
  },
  {
   "cell_type": "code",
   "execution_count": 2,
   "id": "055936ac",
   "metadata": {},
   "outputs": [],
   "source": [
    "#设置输入输出\n",
    "\n",
    "# 1 2 3\n",
    "target = 2\n",
    "\n",
    "if target==1:\n",
    "    data_name = '0618'\n",
    "elif target==2:\n",
    "    data_name = '0854'\n",
    "elif target==3:\n",
    "    data_name = '1066'\n",
    "\n",
    "input_path = f'./input_data/{data_name}.png'\n",
    "output_path = f'./Label_img/label_{data_name}.png'"
   ]
  },
  {
   "cell_type": "code",
   "execution_count": 3,
   "id": "a292030e",
   "metadata": {},
   "outputs": [],
   "source": [
    "def annotate_image(image_path, output_path):\n",
    "    # 读取图片\n",
    "    image = cv2.imread(image_path)\n",
    "    if image is None:\n",
    "        print(\"Image not found!\")\n",
    "        return\n",
    "\n",
    "    # 显示图片并等待用户输入矩形的坐标\n",
    "    cv2.namedWindow('Image')\n",
    "    cv2.imshow('Image', image)\n",
    "    print(\"Click on the image to select the road area. Press 'Esc' to finish.\")\n",
    "\n",
    "    # 初始化矩形的坐标\n",
    "    start_x, start_y, end_x, end_y = 0, 0, 0, 0\n",
    "    drawing = False\n",
    "\n",
    "    # 定义一个回调函数来获取鼠标事件\n",
    "    def click_event(event, x, y, flags, param):\n",
    "        global start_x, start_y, end_x, end_y, drawing\n",
    "        if event == cv2.EVENT_LBUTTONDOWN:\n",
    "            drawing = True\n",
    "            start_x, start_y = x, y\n",
    "        elif event == cv2.EVENT_LBUTTONUP:\n",
    "            drawing = False\n",
    "            end_x, end_y = x, y\n",
    "            cv2.rectangle(image, (start_x, start_y), (end_x, end_y), (0, 255, 0), 2)\n",
    "            cv2.imshow('Image', image)\n",
    "\n",
    "    # 设置鼠标回调函数\n",
    "    cv2.setMouseCallback('Image', click_event)\n",
    "\n",
    "    # 等待用户按下'Esc'键\n",
    "    while True:\n",
    "        k = cv2.waitKey(1) & 0xFF\n",
    "        if k == 27: # 'Esc' key\n",
    "            break\n",
    "\n",
    "    # 保存标注结果\n",
    "    cv2.imwrite(output_path, image)\n",
    "\n",
    "    # 关闭所有窗口\n",
    "    cv2.destroyAllWindows()\n",
    "    print(\"Annotation completed. Rectangle coordinates: ({}, {}) to ({}, {})\".format(start_x, start_y, end_x, end_y))"
   ]
  },
  {
   "cell_type": "code",
   "execution_count": 5,
   "id": "6312733f",
   "metadata": {},
   "outputs": [
    {
     "name": "stdout",
     "output_type": "stream",
     "text": [
      "Click on the image to select the road area. Press 'Esc' to finish.\n",
      "Annotation completed. Rectangle coordinates: (0, 0) to (0, 0)\n"
     ]
    }
   ],
   "source": [
    "# 使用函数标注图片\n",
    "annotate_image(input_path, output_path)"
   ]
  },
  {
   "cell_type": "code",
   "execution_count": null,
   "id": "8dadfae9",
   "metadata": {},
   "outputs": [],
   "source": []
  }
 ],
 "metadata": {
  "kernelspec": {
   "display_name": "Python 3 (ipykernel)",
   "language": "python",
   "name": "python3"
  },
  "language_info": {
   "codemirror_mode": {
    "name": "ipython",
    "version": 3
   },
   "file_extension": ".py",
   "mimetype": "text/x-python",
   "name": "python",
   "nbconvert_exporter": "python",
   "pygments_lexer": "ipython3",
   "version": "3.9.20"
  }
 },
 "nbformat": 4,
 "nbformat_minor": 5
}
