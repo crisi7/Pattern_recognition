{
 "cells": [
  {
   "cell_type": "code",
   "execution_count": 5,
   "id": "56b7b66f-a63e-4216-b6fb-f42e92b222dd",
   "metadata": {},
   "outputs": [],
   "source": [
    "import cv2\n",
    "import numpy as np\n",
    "from joblib import load\n",
    "from PIL import Image\n",
    "from sklearn.preprocessing import StandardScaler"
   ]
  },
  {
   "cell_type": "code",
   "execution_count": 6,
   "id": "3b8fd547-a895-40a8-b683-e67e277f9bdb",
   "metadata": {},
   "outputs": [],
   "source": [
    "def load_model(model_path):\n",
    "    \"\"\"加载训练好的SVM模型\"\"\"\n",
    "    return load(model_path)"
   ]
  },
  {
   "cell_type": "code",
   "execution_count": 4,
   "id": "b1692c05-c50f-47e9-a23f-7f4390a68e97",
   "metadata": {},
   "outputs": [
    {
     "ename": "AttributeError",
     "evalue": "'SVC' object has no attribute 'shape'",
     "output_type": "error",
     "traceback": [
      "\u001b[0;31m---------------------------------------------------------------------------\u001b[0m",
      "\u001b[0;31mAttributeError\u001b[0m                            Traceback (most recent call last)",
      "Cell \u001b[0;32mIn[4], line 3\u001b[0m\n\u001b[1;32m      1\u001b[0m model_path \u001b[38;5;241m=\u001b[39m \u001b[38;5;124m'\u001b[39m\u001b[38;5;124m./model/svm_model.joblib\u001b[39m\u001b[38;5;124m'\u001b[39m\n\u001b[1;32m      2\u001b[0m model \u001b[38;5;241m=\u001b[39m load_model(model_path)\n\u001b[0;32m----> 3\u001b[0m \u001b[43mmodel\u001b[49m\u001b[38;5;241;43m.\u001b[39;49m\u001b[43mshape\u001b[49m\n",
      "\u001b[0;31mAttributeError\u001b[0m: 'SVC' object has no attribute 'shape'"
     ]
    }
   ],
   "source": [
    "\n",
    "# 假设你已经有了一个训练好的模型 clf 和一个 StandardScaler 对象 scaler\n",
    "clf = load_model('./model/svm_model.joblib')\n",
    "\n",
    "# 加载新的图片\n",
    "new_image = Image.open('./input_data/0618.png')\n",
    "new_image_array = np.array(new_image)\n",
    "\n",
    "# 将图片数据转换为模型可以处理的格式\n",
    "# 这里你需要根据你的训练数据来决定如何处理图片数据\n",
    "# 例如，如果你的训练数据是图片的某些特征，你需要提取这些特征\n",
    "# 这里只是一个示例，你需要根据实际情况调整\n",
    "new_features = preprocess_image(new_image_array)  # 你需要定义这个函数\n",
    "\n",
    "# 使用StandardScaler进行标准化\n",
    "scaler = StandardScaler()\n",
    "new_features = scaler.transform(new_features.reshape(1, -1))\n",
    "\n",
    "# 使用模型进行预测\n",
    "prediction = clf.predict(new_features)\n",
    "\n",
    "# 根据预测结果处理图片\n",
    "if prediction == 1:\n",
    "    new_image_array[:] = (255, 255, 255)  # 白色\n",
    "else:\n",
    "    new_image_array[:] = (0, 0, 0)  # 黑色\n",
    "\n",
    "# 将处理后的图片转换回图片格式并保存\n",
    "processed_image = Image.fromarray(new_image_array)\n",
    "processed_image.save('processed_image.jpg')"
   ]
  },
  {
   "cell_type": "code",
   "execution_count": null,
   "id": "5695a373-ed29-451b-af7e-3d88fb7c9563",
   "metadata": {},
   "outputs": [],
   "source": []
  }
 ],
 "metadata": {
  "kernelspec": {
   "display_name": "Python 3 (ipykernel)",
   "language": "python",
   "name": "python3"
  },
  "language_info": {
   "codemirror_mode": {
    "name": "ipython",
    "version": 3
   },
   "file_extension": ".py",
   "mimetype": "text/x-python",
   "name": "python",
   "nbconvert_exporter": "python",
   "pygments_lexer": "ipython3",
   "version": "3.9.20"
  }
 },
 "nbformat": 4,
 "nbformat_minor": 5
}
